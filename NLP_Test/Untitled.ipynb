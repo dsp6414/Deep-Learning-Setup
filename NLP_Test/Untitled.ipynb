{
 "cells": [
  {
   "cell_type": "code",
   "execution_count": 12,
   "metadata": {},
   "outputs": [
    {
     "name": "stdout",
     "output_type": "stream",
     "text": [
      "2.1.0\n"
     ]
    }
   ],
   "source": [
    "import tensorflow as tf\n",
    "print(tf.__version__)\n",
    "\n",
    "# !pip install -q tensorflow-datasets"
   ]
  },
  {
   "cell_type": "code",
   "execution_count": 13,
   "metadata": {},
   "outputs": [
    {
     "name": "stdout",
     "output_type": "stream",
     "text": [
      "Downloading and preparing dataset imdb_reviews/plain_text/1.0.0 (download: 80.23 MiB, generated: Unknown size, total: 80.23 MiB) to C:\\Users\\rexdi\\tensorflow_datasets\\imdb_reviews\\plain_text\\1.0.0...\n"
     ]
    },
    {
     "data": {
      "application/vnd.jupyter.widget-view+json": {
       "model_id": "8fe0f8b461884edba8dbf2399d29c18b",
       "version_major": 2,
       "version_minor": 0
      },
      "text/plain": [
       "HBox(children=(IntProgress(value=1, bar_style='info', description='Dl Completed...', max=1, style=ProgressStyl…"
      ]
     },
     "metadata": {},
     "output_type": "display_data"
    },
    {
     "data": {
      "application/vnd.jupyter.widget-view+json": {
       "model_id": "5d0b2c4911ee41179aa46140744c7f3f",
       "version_major": 2,
       "version_minor": 0
      },
      "text/plain": [
       "HBox(children=(IntProgress(value=1, bar_style='info', description='Dl Size...', max=1, style=ProgressStyle(des…"
      ]
     },
     "metadata": {},
     "output_type": "display_data"
    },
    {
     "name": "stdout",
     "output_type": "stream",
     "text": [
      "\n",
      "\n",
      "\n",
      "\n"
     ]
    },
    {
     "data": {
      "application/vnd.jupyter.widget-view+json": {
       "model_id": "",
       "version_major": 2,
       "version_minor": 0
      },
      "text/plain": [
       "HBox(children=(IntProgress(value=1, bar_style='info', max=1), HTML(value='')))"
      ]
     },
     "metadata": {},
     "output_type": "display_data"
    },
    {
     "name": "stdout",
     "output_type": "stream",
     "text": [
      "Shuffling and writing examples to C:\\Users\\rexdi\\tensorflow_datasets\\imdb_reviews\\plain_text\\1.0.0.incompleteOSV2N3\\imdb_reviews-train.tfrecord\n"
     ]
    },
    {
     "data": {
      "application/vnd.jupyter.widget-view+json": {
       "model_id": "b4bdc075715c4dab8fc23ffb0448095c",
       "version_major": 2,
       "version_minor": 0
      },
      "text/plain": [
       "HBox(children=(IntProgress(value=0, max=25000), HTML(value='')))"
      ]
     },
     "metadata": {},
     "output_type": "display_data"
    },
    {
     "name": "stdout",
     "output_type": "stream",
     "text": [
      "\r"
     ]
    },
    {
     "data": {
      "application/vnd.jupyter.widget-view+json": {
       "model_id": "",
       "version_major": 2,
       "version_minor": 0
      },
      "text/plain": [
       "HBox(children=(IntProgress(value=1, bar_style='info', max=1), HTML(value='')))"
      ]
     },
     "metadata": {},
     "output_type": "display_data"
    },
    {
     "name": "stdout",
     "output_type": "stream",
     "text": [
      "Shuffling and writing examples to C:\\Users\\rexdi\\tensorflow_datasets\\imdb_reviews\\plain_text\\1.0.0.incompleteOSV2N3\\imdb_reviews-test.tfrecord\n"
     ]
    },
    {
     "data": {
      "application/vnd.jupyter.widget-view+json": {
       "model_id": "50b8f8c93ed447e1aacb06abf8d0c05d",
       "version_major": 2,
       "version_minor": 0
      },
      "text/plain": [
       "HBox(children=(IntProgress(value=0, max=25000), HTML(value='')))"
      ]
     },
     "metadata": {},
     "output_type": "display_data"
    },
    {
     "name": "stdout",
     "output_type": "stream",
     "text": [
      "\r"
     ]
    },
    {
     "data": {
      "application/vnd.jupyter.widget-view+json": {
       "model_id": "",
       "version_major": 2,
       "version_minor": 0
      },
      "text/plain": [
       "HBox(children=(IntProgress(value=1, bar_style='info', max=1), HTML(value='')))"
      ]
     },
     "metadata": {},
     "output_type": "display_data"
    },
    {
     "name": "stdout",
     "output_type": "stream",
     "text": [
      "Shuffling and writing examples to C:\\Users\\rexdi\\tensorflow_datasets\\imdb_reviews\\plain_text\\1.0.0.incompleteOSV2N3\\imdb_reviews-unsupervised.tfrecord\n"
     ]
    },
    {
     "data": {
      "application/vnd.jupyter.widget-view+json": {
       "model_id": "8b114f48372440b4b9c97586ccdc2326",
       "version_major": 2,
       "version_minor": 0
      },
      "text/plain": [
       "HBox(children=(IntProgress(value=0, max=50000), HTML(value='')))"
      ]
     },
     "metadata": {},
     "output_type": "display_data"
    },
    {
     "name": "stdout",
     "output_type": "stream",
     "text": [
      "Dataset imdb_reviews downloaded and prepared to C:\\Users\\rexdi\\tensorflow_datasets\\imdb_reviews\\plain_text\\1.0.0. Subsequent calls will reuse this data.\n",
      "\r"
     ]
    }
   ],
   "source": [
    "import tensorflow_datasets as tfds\n",
    "imdb, info = tfds.load(\"imdb_reviews\", with_info=True, as_supervised=True)"
   ]
  },
  {
   "cell_type": "code",
   "execution_count": 14,
   "metadata": {},
   "outputs": [],
   "source": [
    "import numpy as np\n",
    "\n",
    "train_data, test_data = imdb['train'], imdb['test']\n",
    "\n",
    "training_sentences = []\n",
    "training_labels = []\n",
    "\n",
    "testing_sentences = []\n",
    "testing_labels = []\n",
    "\n",
    "# str(s.tonumpy()) is needed in Python3 instead of just s.numpy()\n",
    "for s,l in train_data:\n",
    "  training_sentences.append(str(s.numpy()))\n",
    "  training_labels.append(l.numpy())\n",
    "  \n",
    "for s,l in test_data:\n",
    "  testing_sentences.append(str(s.numpy()))\n",
    "  testing_labels.append(l.numpy())\n",
    "  \n",
    "training_labels_final = np.array(training_labels)\n",
    "testing_labels_final = np.array(testing_labels)\n"
   ]
  },
  {
   "cell_type": "code",
   "execution_count": 15,
   "metadata": {},
   "outputs": [],
   "source": [
    "vocab_size = 10000\n",
    "embedding_dim = 16\n",
    "max_length = 120\n",
    "trunc_type='post'\n",
    "oov_tok = \"<OOV>\"\n",
    "\n",
    "\n",
    "from tensorflow.keras.preprocessing.text import Tokenizer\n",
    "from tensorflow.keras.preprocessing.sequence import pad_sequences\n",
    "\n",
    "tokenizer = Tokenizer(num_words = vocab_size, oov_token=oov_tok)\n",
    "tokenizer.fit_on_texts(training_sentences)\n",
    "word_index = tokenizer.word_index\n",
    "sequences = tokenizer.texts_to_sequences(training_sentences)\n",
    "padded = pad_sequences(sequences,maxlen=max_length, truncating=trunc_type)\n",
    "\n",
    "testing_sequences = tokenizer.texts_to_sequences(testing_sentences)\n",
    "testing_padded = pad_sequences(testing_sequences,maxlen=max_length)\n"
   ]
  },
  {
   "cell_type": "code",
   "execution_count": 16,
   "metadata": {},
   "outputs": [
    {
     "name": "stdout",
     "output_type": "stream",
     "text": [
      "? ? ? ? b for me this is a story that starts with some funny jokes regarding <OOV> <OOV> when he is travelling with a <OOV> and when he is sitting in business <OOV> the problem is that when you have been watching this movie for an hour you will see the same fantasies funny situations again and again and again it is to predictable it is more done as a tv story where you can go away and come back without missing anything br br i like felix <OOV> as frank but that is not enough even when it is a comedy it has to have more variations and some kind of message to it's audience br br\n",
      "b\"For me this is a story that starts with some funny jokes regarding Franks fanatasies when he is travelling with a staircase and when he is sitting in business meetings... The problem is that when you have been watching this movie for an hour you will see the same fantasies/funny situations again and again and again. It is to predictable. It is more done as a TV story where you can go away and come back without missing anything.<br /><br />I like Felix Herngren as Frank but that is not enough even when it is a comedy it has to have more variations and some kind of message to it's audience....<br /><br />\"\n"
     ]
    }
   ],
   "source": [
    "reverse_word_index = dict([(value, key) for (key, value) in word_index.items()])\n",
    "\n",
    "def decode_review(text):\n",
    "    return ' '.join([reverse_word_index.get(i, '?') for i in text])\n",
    "\n",
    "print(decode_review(padded[3]))\n",
    "print(training_sentences[3])"
   ]
  },
  {
   "cell_type": "code",
   "execution_count": 17,
   "metadata": {},
   "outputs": [
    {
     "name": "stdout",
     "output_type": "stream",
     "text": [
      "Model: \"sequential_1\"\n",
      "_________________________________________________________________\n",
      "Layer (type)                 Output Shape              Param #   \n",
      "=================================================================\n",
      "embedding_1 (Embedding)      (None, 120, 16)           160000    \n",
      "_________________________________________________________________\n",
      "flatten_1 (Flatten)          (None, 1920)              0         \n",
      "_________________________________________________________________\n",
      "dense_2 (Dense)              (None, 6)                 11526     \n",
      "_________________________________________________________________\n",
      "dense_3 (Dense)              (None, 1)                 7         \n",
      "=================================================================\n",
      "Total params: 171,533\n",
      "Trainable params: 171,533\n",
      "Non-trainable params: 0\n",
      "_________________________________________________________________\n"
     ]
    }
   ],
   "source": [
    "model = tf.keras.Sequential([\n",
    "    tf.keras.layers.Embedding(vocab_size, embedding_dim, input_length=max_length),\n",
    "    tf.keras.layers.Flatten(),\n",
    "    tf.keras.layers.Dense(6, activation='relu'),\n",
    "    tf.keras.layers.Dense(1, activation='sigmoid')\n",
    "])\n",
    "model.compile(loss='binary_crossentropy',optimizer='adam',metrics=['accuracy'])\n",
    "model.summary()\n"
   ]
  },
  {
   "cell_type": "code",
   "execution_count": 18,
   "metadata": {},
   "outputs": [
    {
     "name": "stdout",
     "output_type": "stream",
     "text": [
      "Train on 25000 samples, validate on 25000 samples\n",
      "Epoch 1/10\n",
      "25000/25000 [==============================] - ETA: 17:05 - loss: 0.6906 - accuracy: 0.718 - ETA: 2:56 - loss: 0.6937 - accuracy: 0.557 - ETA: 1:24 - loss: 0.6937 - accuracy: 0.50 - ETA: 56s - loss: 0.6934 - accuracy: 0.5141 - ETA: 42s - loss: 0.6935 - accuracy: 0.496 - ETA: 34s - loss: 0.6932 - accuracy: 0.502 - ETA: 29s - loss: 0.6932 - accuracy: 0.500 - ETA: 25s - loss: 0.6926 - accuracy: 0.513 - ETA: 23s - loss: 0.6921 - accuracy: 0.520 - ETA: 21s - loss: 0.6913 - accuracy: 0.528 - ETA: 19s - loss: 0.6913 - accuracy: 0.526 - ETA: 17s - loss: 0.6916 - accuracy: 0.522 - ETA: 16s - loss: 0.6913 - accuracy: 0.524 - ETA: 15s - loss: 0.6910 - accuracy: 0.530 - ETA: 14s - loss: 0.6904 - accuracy: 0.536 - ETA: 13s - loss: 0.6904 - accuracy: 0.538 - ETA: 13s - loss: 0.6901 - accuracy: 0.538 - ETA: 12s - loss: 0.6892 - accuracy: 0.544 - ETA: 12s - loss: 0.6890 - accuracy: 0.550 - ETA: 11s - loss: 0.6884 - accuracy: 0.555 - ETA: 11s - loss: 0.6873 - accuracy: 0.559 - ETA: 10s - loss: 0.6870 - accuracy: 0.563 - ETA: 10s - loss: 0.6868 - accuracy: 0.566 - ETA: 10s - loss: 0.6863 - accuracy: 0.568 - ETA: 9s - loss: 0.6859 - accuracy: 0.570 - ETA: 9s - loss: 0.6852 - accuracy: 0.57 - ETA: 9s - loss: 0.6841 - accuracy: 0.57 - ETA: 9s - loss: 0.6831 - accuracy: 0.58 - ETA: 8s - loss: 0.6819 - accuracy: 0.58 - ETA: 8s - loss: 0.6798 - accuracy: 0.58 - ETA: 8s - loss: 0.6780 - accuracy: 0.59 - ETA: 8s - loss: 0.6765 - accuracy: 0.59 - ETA: 7s - loss: 0.6739 - accuracy: 0.59 - ETA: 7s - loss: 0.6714 - accuracy: 0.60 - ETA: 7s - loss: 0.6686 - accuracy: 0.60 - ETA: 7s - loss: 0.6654 - accuracy: 0.61 - ETA: 7s - loss: 0.6619 - accuracy: 0.61 - ETA: 7s - loss: 0.6589 - accuracy: 0.62 - ETA: 7s - loss: 0.6563 - accuracy: 0.62 - ETA: 6s - loss: 0.6536 - accuracy: 0.62 - ETA: 6s - loss: 0.6507 - accuracy: 0.62 - ETA: 6s - loss: 0.6461 - accuracy: 0.63 - ETA: 6s - loss: 0.6425 - accuracy: 0.63 - ETA: 6s - loss: 0.6367 - accuracy: 0.64 - ETA: 6s - loss: 0.6333 - accuracy: 0.64 - ETA: 6s - loss: 0.6287 - accuracy: 0.65 - ETA: 5s - loss: 0.6243 - accuracy: 0.65 - ETA: 5s - loss: 0.6217 - accuracy: 0.65 - ETA: 5s - loss: 0.6175 - accuracy: 0.66 - ETA: 5s - loss: 0.6139 - accuracy: 0.66 - ETA: 5s - loss: 0.6104 - accuracy: 0.66 - ETA: 5s - loss: 0.6071 - accuracy: 0.66 - ETA: 5s - loss: 0.6030 - accuracy: 0.67 - ETA: 4s - loss: 0.5988 - accuracy: 0.67 - ETA: 4s - loss: 0.5958 - accuracy: 0.67 - ETA: 4s - loss: 0.5922 - accuracy: 0.68 - ETA: 4s - loss: 0.5892 - accuracy: 0.68 - ETA: 4s - loss: 0.5868 - accuracy: 0.68 - ETA: 4s - loss: 0.5847 - accuracy: 0.68 - ETA: 4s - loss: 0.5814 - accuracy: 0.68 - ETA: 4s - loss: 0.5785 - accuracy: 0.69 - ETA: 4s - loss: 0.5754 - accuracy: 0.69 - ETA: 4s - loss: 0.5717 - accuracy: 0.69 - ETA: 3s - loss: 0.5686 - accuracy: 0.69 - ETA: 3s - loss: 0.5658 - accuracy: 0.69 - ETA: 3s - loss: 0.5634 - accuracy: 0.70 - ETA: 3s - loss: 0.5605 - accuracy: 0.70 - ETA: 3s - loss: 0.5584 - accuracy: 0.70 - ETA: 3s - loss: 0.5551 - accuracy: 0.70 - ETA: 3s - loss: 0.5522 - accuracy: 0.71 - ETA: 3s - loss: 0.5499 - accuracy: 0.71 - ETA: 3s - loss: 0.5476 - accuracy: 0.71 - ETA: 3s - loss: 0.5456 - accuracy: 0.71 - ETA: 2s - loss: 0.5439 - accuracy: 0.71 - ETA: 2s - loss: 0.5416 - accuracy: 0.71 - ETA: 2s - loss: 0.5390 - accuracy: 0.72 - ETA: 2s - loss: 0.5367 - accuracy: 0.72 - ETA: 2s - loss: 0.5344 - accuracy: 0.72 - ETA: 2s - loss: 0.5322 - accuracy: 0.72 - ETA: 2s - loss: 0.5309 - accuracy: 0.72 - ETA: 2s - loss: 0.5297 - accuracy: 0.72 - ETA: 2s - loss: 0.5278 - accuracy: 0.72 - ETA: 2s - loss: 0.5261 - accuracy: 0.72 - ETA: 2s - loss: 0.5236 - accuracy: 0.73 - ETA: 2s - loss: 0.5216 - accuracy: 0.73 - ETA: 1s - loss: 0.5196 - accuracy: 0.73 - ETA: 1s - loss: 0.5181 - accuracy: 0.73 - ETA: 1s - loss: 0.5170 - accuracy: 0.73 - ETA: 1s - loss: 0.5154 - accuracy: 0.73 - ETA: 1s - loss: 0.5141 - accuracy: 0.73 - ETA: 1s - loss: 0.5135 - accuracy: 0.73 - ETA: 1s - loss: 0.5121 - accuracy: 0.74 - ETA: 1s - loss: 0.5097 - accuracy: 0.74 - ETA: 1s - loss: 0.5078 - accuracy: 0.74 - ETA: 1s - loss: 0.5062 - accuracy: 0.74 - ETA: 1s - loss: 0.5042 - accuracy: 0.74 - ETA: 1s - loss: 0.5022 - accuracy: 0.74 - ETA: 1s - loss: 0.5005 - accuracy: 0.74 - ETA: 1s - loss: 0.4988 - accuracy: 0.74 - ETA: 0s - loss: 0.4971 - accuracy: 0.74 - ETA: 0s - loss: 0.4952 - accuracy: 0.75 - ETA: 0s - loss: 0.4943 - accuracy: 0.75 - ETA: 0s - loss: 0.4933 - accuracy: 0.75 - ETA: 0s - loss: 0.4921 - accuracy: 0.75 - ETA: 0s - loss: 0.4908 - accuracy: 0.75 - ETA: 0s - loss: 0.4891 - accuracy: 0.75 - ETA: 0s - loss: 0.4879 - accuracy: 0.75 - ETA: 0s - loss: 0.4861 - accuracy: 0.75 - ETA: 0s - loss: 0.4847 - accuracy: 0.75 - ETA: 0s - loss: 0.4835 - accuracy: 0.75 - ETA: 0s - loss: 0.4824 - accuracy: 0.75 - ETA: 0s - loss: 0.4806 - accuracy: 0.75 - ETA: 0s - loss: 0.4797 - accuracy: 0.75 - 10s 414us/sample - loss: 0.4786 - accuracy: 0.7605 - val_loss: 0.3474 - val_accuracy: 0.8475\n",
      "Epoch 2/10\n"
     ]
    },
    {
     "name": "stdout",
     "output_type": "stream",
     "text": [
      "25000/25000 [==============================] - ETA: 7s - loss: 0.2216 - accuracy: 0.90 - ETA: 6s - loss: 0.1648 - accuracy: 0.95 - ETA: 6s - loss: 0.2223 - accuracy: 0.91 - ETA: 6s - loss: 0.2233 - accuracy: 0.92 - ETA: 5s - loss: 0.2234 - accuracy: 0.91 - ETA: 5s - loss: 0.2268 - accuracy: 0.91 - ETA: 5s - loss: 0.2262 - accuracy: 0.91 - ETA: 5s - loss: 0.2242 - accuracy: 0.91 - ETA: 5s - loss: 0.2252 - accuracy: 0.92 - ETA: 5s - loss: 0.2269 - accuracy: 0.92 - ETA: 5s - loss: 0.2274 - accuracy: 0.92 - ETA: 5s - loss: 0.2254 - accuracy: 0.92 - ETA: 5s - loss: 0.2258 - accuracy: 0.92 - ETA: 5s - loss: 0.2282 - accuracy: 0.92 - ETA: 5s - loss: 0.2284 - accuracy: 0.92 - ETA: 5s - loss: 0.2303 - accuracy: 0.91 - ETA: 5s - loss: 0.2336 - accuracy: 0.91 - ETA: 5s - loss: 0.2331 - accuracy: 0.91 - ETA: 5s - loss: 0.2318 - accuracy: 0.91 - ETA: 4s - loss: 0.2370 - accuracy: 0.91 - ETA: 4s - loss: 0.2351 - accuracy: 0.91 - ETA: 4s - loss: 0.2372 - accuracy: 0.91 - ETA: 4s - loss: 0.2388 - accuracy: 0.91 - ETA: 4s - loss: 0.2381 - accuracy: 0.91 - ETA: 4s - loss: 0.2403 - accuracy: 0.91 - ETA: 4s - loss: 0.2418 - accuracy: 0.91 - ETA: 4s - loss: 0.2434 - accuracy: 0.91 - ETA: 4s - loss: 0.2433 - accuracy: 0.91 - ETA: 4s - loss: 0.2452 - accuracy: 0.90 - ETA: 4s - loss: 0.2447 - accuracy: 0.90 - ETA: 4s - loss: 0.2437 - accuracy: 0.90 - ETA: 4s - loss: 0.2450 - accuracy: 0.90 - ETA: 4s - loss: 0.2453 - accuracy: 0.90 - ETA: 4s - loss: 0.2449 - accuracy: 0.90 - ETA: 4s - loss: 0.2446 - accuracy: 0.90 - ETA: 4s - loss: 0.2437 - accuracy: 0.90 - ETA: 4s - loss: 0.2422 - accuracy: 0.90 - ETA: 3s - loss: 0.2420 - accuracy: 0.90 - ETA: 3s - loss: 0.2419 - accuracy: 0.90 - ETA: 3s - loss: 0.2423 - accuracy: 0.90 - ETA: 3s - loss: 0.2430 - accuracy: 0.90 - ETA: 3s - loss: 0.2446 - accuracy: 0.90 - ETA: 3s - loss: 0.2450 - accuracy: 0.90 - ETA: 3s - loss: 0.2448 - accuracy: 0.90 - ETA: 3s - loss: 0.2438 - accuracy: 0.90 - ETA: 3s - loss: 0.2439 - accuracy: 0.90 - ETA: 3s - loss: 0.2443 - accuracy: 0.90 - ETA: 3s - loss: 0.2439 - accuracy: 0.90 - ETA: 3s - loss: 0.2442 - accuracy: 0.90 - ETA: 3s - loss: 0.2455 - accuracy: 0.90 - ETA: 3s - loss: 0.2456 - accuracy: 0.90 - ETA: 3s - loss: 0.2449 - accuracy: 0.90 - ETA: 3s - loss: 0.2456 - accuracy: 0.90 - ETA: 3s - loss: 0.2458 - accuracy: 0.90 - ETA: 3s - loss: 0.2459 - accuracy: 0.90 - ETA: 2s - loss: 0.2459 - accuracy: 0.90 - ETA: 2s - loss: 0.2458 - accuracy: 0.90 - ETA: 2s - loss: 0.2456 - accuracy: 0.90 - ETA: 2s - loss: 0.2450 - accuracy: 0.90 - ETA: 2s - loss: 0.2448 - accuracy: 0.90 - ETA: 2s - loss: 0.2451 - accuracy: 0.90 - ETA: 2s - loss: 0.2454 - accuracy: 0.90 - ETA: 2s - loss: 0.2450 - accuracy: 0.90 - ETA: 2s - loss: 0.2445 - accuracy: 0.90 - ETA: 2s - loss: 0.2443 - accuracy: 0.90 - ETA: 2s - loss: 0.2446 - accuracy: 0.90 - ETA: 2s - loss: 0.2440 - accuracy: 0.90 - ETA: 2s - loss: 0.2434 - accuracy: 0.90 - ETA: 2s - loss: 0.2442 - accuracy: 0.90 - ETA: 2s - loss: 0.2444 - accuracy: 0.90 - ETA: 2s - loss: 0.2435 - accuracy: 0.90 - ETA: 2s - loss: 0.2437 - accuracy: 0.90 - ETA: 2s - loss: 0.2435 - accuracy: 0.90 - ETA: 2s - loss: 0.2429 - accuracy: 0.90 - ETA: 1s - loss: 0.2425 - accuracy: 0.90 - ETA: 1s - loss: 0.2421 - accuracy: 0.90 - ETA: 1s - loss: 0.2417 - accuracy: 0.90 - ETA: 1s - loss: 0.2418 - accuracy: 0.90 - ETA: 1s - loss: 0.2423 - accuracy: 0.90 - ETA: 1s - loss: 0.2432 - accuracy: 0.90 - ETA: 1s - loss: 0.2430 - accuracy: 0.90 - ETA: 1s - loss: 0.2429 - accuracy: 0.90 - ETA: 1s - loss: 0.2423 - accuracy: 0.90 - ETA: 1s - loss: 0.2426 - accuracy: 0.90 - ETA: 1s - loss: 0.2426 - accuracy: 0.90 - ETA: 1s - loss: 0.2423 - accuracy: 0.90 - ETA: 1s - loss: 0.2422 - accuracy: 0.90 - ETA: 1s - loss: 0.2424 - accuracy: 0.90 - ETA: 1s - loss: 0.2418 - accuracy: 0.90 - ETA: 1s - loss: 0.2421 - accuracy: 0.90 - ETA: 1s - loss: 0.2424 - accuracy: 0.90 - ETA: 1s - loss: 0.2424 - accuracy: 0.90 - ETA: 0s - loss: 0.2423 - accuracy: 0.90 - ETA: 0s - loss: 0.2422 - accuracy: 0.90 - ETA: 0s - loss: 0.2419 - accuracy: 0.90 - ETA: 0s - loss: 0.2413 - accuracy: 0.90 - ETA: 0s - loss: 0.2410 - accuracy: 0.90 - ETA: 0s - loss: 0.2409 - accuracy: 0.90 - ETA: 0s - loss: 0.2410 - accuracy: 0.90 - ETA: 0s - loss: 0.2409 - accuracy: 0.90 - ETA: 0s - loss: 0.2413 - accuracy: 0.90 - ETA: 0s - loss: 0.2415 - accuracy: 0.90 - ETA: 0s - loss: 0.2411 - accuracy: 0.90 - ETA: 0s - loss: 0.2416 - accuracy: 0.90 - ETA: 0s - loss: 0.2414 - accuracy: 0.90 - ETA: 0s - loss: 0.2410 - accuracy: 0.90 - ETA: 0s - loss: 0.2413 - accuracy: 0.90 - ETA: 0s - loss: 0.2413 - accuracy: 0.90 - ETA: 0s - loss: 0.2411 - accuracy: 0.90 - ETA: 0s - loss: 0.2407 - accuracy: 0.90 - ETA: 0s - loss: 0.2407 - accuracy: 0.90 - 9s 353us/sample - loss: 0.2407 - accuracy: 0.9074 - val_loss: 0.3641 - val_accuracy: 0.8407\n",
      "Epoch 3/10\n"
     ]
    },
    {
     "name": "stdout",
     "output_type": "stream",
     "text": [
      "25000/25000 [==============================] - ETA: 7s - loss: 0.0746 - accuracy: 1.00 - ETA: 7s - loss: 0.0898 - accuracy: 0.98 - ETA: 6s - loss: 0.0923 - accuracy: 0.98 - ETA: 6s - loss: 0.0935 - accuracy: 0.98 - ETA: 6s - loss: 0.1009 - accuracy: 0.97 - ETA: 6s - loss: 0.0982 - accuracy: 0.98 - ETA: 6s - loss: 0.0962 - accuracy: 0.98 - ETA: 6s - loss: 0.1057 - accuracy: 0.97 - ETA: 6s - loss: 0.1056 - accuracy: 0.97 - ETA: 5s - loss: 0.1039 - accuracy: 0.97 - ETA: 5s - loss: 0.1040 - accuracy: 0.97 - ETA: 5s - loss: 0.1020 - accuracy: 0.97 - ETA: 5s - loss: 0.1019 - accuracy: 0.97 - ETA: 5s - loss: 0.1007 - accuracy: 0.97 - ETA: 5s - loss: 0.1000 - accuracy: 0.97 - ETA: 5s - loss: 0.0995 - accuracy: 0.97 - ETA: 5s - loss: 0.0987 - accuracy: 0.97 - ETA: 5s - loss: 0.0984 - accuracy: 0.97 - ETA: 5s - loss: 0.0980 - accuracy: 0.97 - ETA: 5s - loss: 0.0995 - accuracy: 0.97 - ETA: 5s - loss: 0.0996 - accuracy: 0.97 - ETA: 4s - loss: 0.0988 - accuracy: 0.97 - ETA: 4s - loss: 0.1013 - accuracy: 0.97 - ETA: 4s - loss: 0.1005 - accuracy: 0.97 - ETA: 4s - loss: 0.0991 - accuracy: 0.97 - ETA: 4s - loss: 0.0995 - accuracy: 0.97 - ETA: 4s - loss: 0.0993 - accuracy: 0.97 - ETA: 4s - loss: 0.0988 - accuracy: 0.97 - ETA: 4s - loss: 0.0978 - accuracy: 0.97 - ETA: 4s - loss: 0.0971 - accuracy: 0.97 - ETA: 4s - loss: 0.0966 - accuracy: 0.97 - ETA: 4s - loss: 0.0975 - accuracy: 0.97 - ETA: 4s - loss: 0.0982 - accuracy: 0.97 - ETA: 4s - loss: 0.0994 - accuracy: 0.97 - ETA: 4s - loss: 0.0996 - accuracy: 0.97 - ETA: 4s - loss: 0.0990 - accuracy: 0.97 - ETA: 4s - loss: 0.0981 - accuracy: 0.97 - ETA: 4s - loss: 0.0993 - accuracy: 0.97 - ETA: 4s - loss: 0.0992 - accuracy: 0.97 - ETA: 3s - loss: 0.0991 - accuracy: 0.97 - ETA: 3s - loss: 0.0988 - accuracy: 0.97 - ETA: 3s - loss: 0.0991 - accuracy: 0.97 - ETA: 3s - loss: 0.0986 - accuracy: 0.97 - ETA: 3s - loss: 0.0983 - accuracy: 0.97 - ETA: 3s - loss: 0.0978 - accuracy: 0.97 - ETA: 3s - loss: 0.0984 - accuracy: 0.97 - ETA: 3s - loss: 0.0981 - accuracy: 0.97 - ETA: 3s - loss: 0.0979 - accuracy: 0.97 - ETA: 3s - loss: 0.0983 - accuracy: 0.97 - ETA: 3s - loss: 0.0989 - accuracy: 0.97 - ETA: 3s - loss: 0.0991 - accuracy: 0.97 - ETA: 3s - loss: 0.0992 - accuracy: 0.97 - ETA: 3s - loss: 0.0995 - accuracy: 0.97 - ETA: 3s - loss: 0.0998 - accuracy: 0.97 - ETA: 3s - loss: 0.0988 - accuracy: 0.97 - ETA: 3s - loss: 0.0989 - accuracy: 0.97 - ETA: 3s - loss: 0.0989 - accuracy: 0.97 - ETA: 3s - loss: 0.0992 - accuracy: 0.97 - ETA: 3s - loss: 0.0987 - accuracy: 0.97 - ETA: 2s - loss: 0.0986 - accuracy: 0.97 - ETA: 2s - loss: 0.0986 - accuracy: 0.97 - ETA: 2s - loss: 0.0989 - accuracy: 0.97 - ETA: 2s - loss: 0.0994 - accuracy: 0.97 - ETA: 2s - loss: 0.0995 - accuracy: 0.97 - ETA: 2s - loss: 0.0997 - accuracy: 0.97 - ETA: 2s - loss: 0.0997 - accuracy: 0.97 - ETA: 2s - loss: 0.0996 - accuracy: 0.97 - ETA: 2s - loss: 0.0992 - accuracy: 0.97 - ETA: 2s - loss: 0.0991 - accuracy: 0.97 - ETA: 2s - loss: 0.0991 - accuracy: 0.97 - ETA: 2s - loss: 0.1006 - accuracy: 0.97 - ETA: 2s - loss: 0.1005 - accuracy: 0.97 - ETA: 2s - loss: 0.1009 - accuracy: 0.97 - ETA: 2s - loss: 0.1006 - accuracy: 0.97 - ETA: 2s - loss: 0.1005 - accuracy: 0.97 - ETA: 2s - loss: 0.1013 - accuracy: 0.97 - ETA: 1s - loss: 0.1012 - accuracy: 0.97 - ETA: 1s - loss: 0.1006 - accuracy: 0.97 - ETA: 1s - loss: 0.1006 - accuracy: 0.97 - ETA: 1s - loss: 0.1004 - accuracy: 0.97 - ETA: 1s - loss: 0.1003 - accuracy: 0.97 - ETA: 1s - loss: 0.1003 - accuracy: 0.97 - ETA: 1s - loss: 0.1003 - accuracy: 0.97 - ETA: 1s - loss: 0.0999 - accuracy: 0.97 - ETA: 1s - loss: 0.0997 - accuracy: 0.97 - ETA: 1s - loss: 0.1002 - accuracy: 0.97 - ETA: 1s - loss: 0.1001 - accuracy: 0.97 - ETA: 1s - loss: 0.1003 - accuracy: 0.97 - ETA: 1s - loss: 0.1003 - accuracy: 0.97 - ETA: 1s - loss: 0.1005 - accuracy: 0.97 - ETA: 1s - loss: 0.1009 - accuracy: 0.97 - ETA: 1s - loss: 0.1007 - accuracy: 0.97 - ETA: 1s - loss: 0.1005 - accuracy: 0.97 - ETA: 1s - loss: 0.1005 - accuracy: 0.97 - ETA: 0s - loss: 0.1005 - accuracy: 0.97 - ETA: 0s - loss: 0.1002 - accuracy: 0.97 - ETA: 0s - loss: 0.1001 - accuracy: 0.97 - ETA: 0s - loss: 0.0999 - accuracy: 0.97 - ETA: 0s - loss: 0.0999 - accuracy: 0.97 - ETA: 0s - loss: 0.1001 - accuracy: 0.97 - ETA: 0s - loss: 0.1002 - accuracy: 0.97 - ETA: 0s - loss: 0.0998 - accuracy: 0.97 - ETA: 0s - loss: 0.0996 - accuracy: 0.97 - ETA: 0s - loss: 0.0995 - accuracy: 0.97 - ETA: 0s - loss: 0.0993 - accuracy: 0.97 - ETA: 0s - loss: 0.0995 - accuracy: 0.97 - ETA: 0s - loss: 0.0993 - accuracy: 0.97 - ETA: 0s - loss: 0.0989 - accuracy: 0.97 - ETA: 0s - loss: 0.0986 - accuracy: 0.97 - ETA: 0s - loss: 0.0981 - accuracy: 0.97 - ETA: 0s - loss: 0.0984 - accuracy: 0.97 - 9s 357us/sample - loss: 0.0983 - accuracy: 0.9722 - val_loss: 0.4496 - val_accuracy: 0.8245\n",
      "Epoch 4/10\n"
     ]
    },
    {
     "name": "stdout",
     "output_type": "stream",
     "text": [
      "25000/25000 [==============================] - ETA: 9s - loss: 0.0248 - accuracy: 1.00 - ETA: 6s - loss: 0.0225 - accuracy: 1.00 - ETA: 6s - loss: 0.0240 - accuracy: 1.00 - ETA: 6s - loss: 0.0238 - accuracy: 1.00 - ETA: 5s - loss: 0.0256 - accuracy: 0.99 - ETA: 5s - loss: 0.0265 - accuracy: 0.99 - ETA: 5s - loss: 0.0280 - accuracy: 0.99 - ETA: 5s - loss: 0.0276 - accuracy: 0.99 - ETA: 5s - loss: 0.0267 - accuracy: 0.99 - ETA: 5s - loss: 0.0281 - accuracy: 0.99 - ETA: 5s - loss: 0.0270 - accuracy: 0.99 - ETA: 5s - loss: 0.0270 - accuracy: 0.99 - ETA: 5s - loss: 0.0263 - accuracy: 0.99 - ETA: 5s - loss: 0.0256 - accuracy: 0.99 - ETA: 5s - loss: 0.0257 - accuracy: 0.99 - ETA: 5s - loss: 0.0253 - accuracy: 0.99 - ETA: 5s - loss: 0.0249 - accuracy: 0.99 - ETA: 5s - loss: 0.0245 - accuracy: 0.99 - ETA: 5s - loss: 0.0246 - accuracy: 0.99 - ETA: 5s - loss: 0.0254 - accuracy: 0.99 - ETA: 5s - loss: 0.0260 - accuracy: 0.99 - ETA: 5s - loss: 0.0256 - accuracy: 0.99 - ETA: 5s - loss: 0.0251 - accuracy: 0.99 - ETA: 4s - loss: 0.0250 - accuracy: 0.99 - ETA: 4s - loss: 0.0247 - accuracy: 0.99 - ETA: 4s - loss: 0.0242 - accuracy: 0.99 - ETA: 4s - loss: 0.0242 - accuracy: 0.99 - ETA: 4s - loss: 0.0241 - accuracy: 0.99 - ETA: 4s - loss: 0.0240 - accuracy: 0.99 - ETA: 4s - loss: 0.0238 - accuracy: 0.99 - ETA: 4s - loss: 0.0238 - accuracy: 0.99 - ETA: 4s - loss: 0.0238 - accuracy: 0.99 - ETA: 4s - loss: 0.0236 - accuracy: 0.99 - ETA: 4s - loss: 0.0235 - accuracy: 0.99 - ETA: 4s - loss: 0.0234 - accuracy: 0.99 - ETA: 4s - loss: 0.0239 - accuracy: 0.99 - ETA: 4s - loss: 0.0239 - accuracy: 0.99 - ETA: 4s - loss: 0.0240 - accuracy: 0.99 - ETA: 4s - loss: 0.0245 - accuracy: 0.99 - ETA: 4s - loss: 0.0256 - accuracy: 0.99 - ETA: 4s - loss: 0.0255 - accuracy: 0.99 - ETA: 4s - loss: 0.0253 - accuracy: 0.99 - ETA: 3s - loss: 0.0253 - accuracy: 0.99 - ETA: 3s - loss: 0.0251 - accuracy: 0.99 - ETA: 3s - loss: 0.0249 - accuracy: 0.99 - ETA: 3s - loss: 0.0250 - accuracy: 0.99 - ETA: 3s - loss: 0.0250 - accuracy: 0.99 - ETA: 3s - loss: 0.0248 - accuracy: 0.99 - ETA: 3s - loss: 0.0246 - accuracy: 0.99 - ETA: 3s - loss: 0.0244 - accuracy: 0.99 - ETA: 3s - loss: 0.0242 - accuracy: 0.99 - ETA: 3s - loss: 0.0251 - accuracy: 0.99 - ETA: 3s - loss: 0.0254 - accuracy: 0.99 - ETA: 3s - loss: 0.0256 - accuracy: 0.99 - ETA: 3s - loss: 0.0256 - accuracy: 0.99 - ETA: 3s - loss: 0.0256 - accuracy: 0.99 - ETA: 3s - loss: 0.0254 - accuracy: 0.99 - ETA: 3s - loss: 0.0253 - accuracy: 0.99 - ETA: 3s - loss: 0.0251 - accuracy: 0.99 - ETA: 3s - loss: 0.0254 - accuracy: 0.99 - ETA: 2s - loss: 0.0252 - accuracy: 0.99 - ETA: 2s - loss: 0.0251 - accuracy: 0.99 - ETA: 2s - loss: 0.0250 - accuracy: 0.99 - ETA: 2s - loss: 0.0254 - accuracy: 0.99 - ETA: 2s - loss: 0.0252 - accuracy: 0.99 - ETA: 2s - loss: 0.0250 - accuracy: 0.99 - ETA: 2s - loss: 0.0250 - accuracy: 0.99 - ETA: 2s - loss: 0.0251 - accuracy: 0.99 - ETA: 2s - loss: 0.0254 - accuracy: 0.99 - ETA: 2s - loss: 0.0253 - accuracy: 0.99 - ETA: 2s - loss: 0.0252 - accuracy: 0.99 - ETA: 2s - loss: 0.0251 - accuracy: 0.99 - ETA: 2s - loss: 0.0250 - accuracy: 0.99 - ETA: 2s - loss: 0.0248 - accuracy: 0.99 - ETA: 2s - loss: 0.0250 - accuracy: 0.99 - ETA: 2s - loss: 0.0249 - accuracy: 0.99 - ETA: 2s - loss: 0.0247 - accuracy: 0.99 - ETA: 1s - loss: 0.0247 - accuracy: 0.99 - ETA: 1s - loss: 0.0245 - accuracy: 0.99 - ETA: 1s - loss: 0.0244 - accuracy: 0.99 - ETA: 1s - loss: 0.0243 - accuracy: 0.99 - ETA: 1s - loss: 0.0243 - accuracy: 0.99 - ETA: 1s - loss: 0.0242 - accuracy: 0.99 - ETA: 1s - loss: 0.0243 - accuracy: 0.99 - ETA: 1s - loss: 0.0242 - accuracy: 0.99 - ETA: 1s - loss: 0.0240 - accuracy: 0.99 - ETA: 1s - loss: 0.0240 - accuracy: 0.99 - ETA: 1s - loss: 0.0241 - accuracy: 0.99 - ETA: 1s - loss: 0.0245 - accuracy: 0.99 - ETA: 1s - loss: 0.0244 - accuracy: 0.99 - ETA: 1s - loss: 0.0243 - accuracy: 0.99 - ETA: 1s - loss: 0.0243 - accuracy: 0.99 - ETA: 1s - loss: 0.0243 - accuracy: 0.99 - ETA: 1s - loss: 0.0242 - accuracy: 0.99 - ETA: 0s - loss: 0.0241 - accuracy: 0.99 - ETA: 0s - loss: 0.0241 - accuracy: 0.99 - ETA: 0s - loss: 0.0240 - accuracy: 0.99 - ETA: 0s - loss: 0.0239 - accuracy: 0.99 - ETA: 0s - loss: 0.0238 - accuracy: 0.99 - ETA: 0s - loss: 0.0238 - accuracy: 0.99 - ETA: 0s - loss: 0.0243 - accuracy: 0.99 - ETA: 0s - loss: 0.0241 - accuracy: 0.99 - ETA: 0s - loss: 0.0242 - accuracy: 0.99 - ETA: 0s - loss: 0.0243 - accuracy: 0.99 - ETA: 0s - loss: 0.0246 - accuracy: 0.99 - ETA: 0s - loss: 0.0245 - accuracy: 0.99 - ETA: 0s - loss: 0.0246 - accuracy: 0.99 - ETA: 0s - loss: 0.0245 - accuracy: 0.99 - ETA: 0s - loss: 0.0250 - accuracy: 0.99 - ETA: 0s - loss: 0.0249 - accuracy: 0.99 - ETA: 0s - loss: 0.0249 - accuracy: 0.99 - ETA: 0s - loss: 0.0249 - accuracy: 0.99 - 9s 360us/sample - loss: 0.0249 - accuracy: 0.9967 - val_loss: 0.5268 - val_accuracy: 0.8276\n",
      "Epoch 5/10\n"
     ]
    },
    {
     "name": "stdout",
     "output_type": "stream",
     "text": [
      "25000/25000 [==============================] - ETA: 8s - loss: 0.0079 - accuracy: 1.00 - ETA: 6s - loss: 0.0066 - accuracy: 1.00 - ETA: 6s - loss: 0.0063 - accuracy: 1.00 - ETA: 5s - loss: 0.0068 - accuracy: 1.00 - ETA: 5s - loss: 0.0102 - accuracy: 0.99 - ETA: 5s - loss: 0.0100 - accuracy: 0.99 - ETA: 5s - loss: 0.0094 - accuracy: 0.99 - ETA: 5s - loss: 0.0103 - accuracy: 0.99 - ETA: 5s - loss: 0.0100 - accuracy: 0.99 - ETA: 5s - loss: 0.0097 - accuracy: 0.99 - ETA: 5s - loss: 0.0095 - accuracy: 0.99 - ETA: 5s - loss: 0.0090 - accuracy: 0.99 - ETA: 5s - loss: 0.0087 - accuracy: 0.99 - ETA: 5s - loss: 0.0086 - accuracy: 0.99 - ETA: 5s - loss: 0.0083 - accuracy: 0.99 - ETA: 5s - loss: 0.0081 - accuracy: 0.99 - ETA: 5s - loss: 0.0080 - accuracy: 0.99 - ETA: 5s - loss: 0.0079 - accuracy: 0.99 - ETA: 4s - loss: 0.0078 - accuracy: 0.99 - ETA: 4s - loss: 0.0077 - accuracy: 0.99 - ETA: 4s - loss: 0.0076 - accuracy: 0.99 - ETA: 4s - loss: 0.0075 - accuracy: 0.99 - ETA: 4s - loss: 0.0074 - accuracy: 0.99 - ETA: 4s - loss: 0.0073 - accuracy: 0.99 - ETA: 4s - loss: 0.0072 - accuracy: 0.99 - ETA: 4s - loss: 0.0071 - accuracy: 0.99 - ETA: 4s - loss: 0.0071 - accuracy: 0.99 - ETA: 4s - loss: 0.0071 - accuracy: 0.99 - ETA: 4s - loss: 0.0070 - accuracy: 0.99 - ETA: 4s - loss: 0.0070 - accuracy: 0.99 - ETA: 4s - loss: 0.0069 - accuracy: 0.99 - ETA: 4s - loss: 0.0069 - accuracy: 0.99 - ETA: 4s - loss: 0.0068 - accuracy: 0.99 - ETA: 4s - loss: 0.0067 - accuracy: 0.99 - ETA: 3s - loss: 0.0075 - accuracy: 0.99 - ETA: 3s - loss: 0.0075 - accuracy: 0.99 - ETA: 3s - loss: 0.0075 - accuracy: 0.99 - ETA: 3s - loss: 0.0074 - accuracy: 0.99 - ETA: 3s - loss: 0.0074 - accuracy: 0.99 - ETA: 3s - loss: 0.0073 - accuracy: 0.99 - ETA: 3s - loss: 0.0076 - accuracy: 0.99 - ETA: 3s - loss: 0.0076 - accuracy: 0.99 - ETA: 3s - loss: 0.0076 - accuracy: 0.99 - ETA: 3s - loss: 0.0075 - accuracy: 0.99 - ETA: 3s - loss: 0.0075 - accuracy: 0.99 - ETA: 3s - loss: 0.0074 - accuracy: 0.99 - ETA: 3s - loss: 0.0074 - accuracy: 0.99 - ETA: 3s - loss: 0.0073 - accuracy: 0.99 - ETA: 3s - loss: 0.0073 - accuracy: 0.99 - ETA: 3s - loss: 0.0072 - accuracy: 0.99 - ETA: 3s - loss: 0.0072 - accuracy: 0.99 - ETA: 3s - loss: 0.0072 - accuracy: 0.99 - ETA: 3s - loss: 0.0071 - accuracy: 0.99 - ETA: 3s - loss: 0.0071 - accuracy: 0.99 - ETA: 2s - loss: 0.0070 - accuracy: 0.99 - ETA: 2s - loss: 0.0070 - accuracy: 0.99 - ETA: 2s - loss: 0.0070 - accuracy: 0.99 - ETA: 2s - loss: 0.0069 - accuracy: 0.99 - ETA: 2s - loss: 0.0069 - accuracy: 0.99 - ETA: 2s - loss: 0.0069 - accuracy: 0.99 - ETA: 2s - loss: 0.0069 - accuracy: 0.99 - ETA: 2s - loss: 0.0068 - accuracy: 0.99 - ETA: 2s - loss: 0.0070 - accuracy: 0.99 - ETA: 2s - loss: 0.0070 - accuracy: 0.99 - ETA: 2s - loss: 0.0071 - accuracy: 0.99 - ETA: 2s - loss: 0.0071 - accuracy: 0.99 - ETA: 2s - loss: 0.0070 - accuracy: 0.99 - ETA: 2s - loss: 0.0070 - accuracy: 0.99 - ETA: 2s - loss: 0.0069 - accuracy: 0.99 - ETA: 2s - loss: 0.0069 - accuracy: 0.99 - ETA: 2s - loss: 0.0069 - accuracy: 0.99 - ETA: 2s - loss: 0.0068 - accuracy: 0.99 - ETA: 2s - loss: 0.0068 - accuracy: 0.99 - ETA: 1s - loss: 0.0068 - accuracy: 0.99 - ETA: 1s - loss: 0.0068 - accuracy: 0.99 - ETA: 1s - loss: 0.0068 - accuracy: 0.99 - ETA: 1s - loss: 0.0067 - accuracy: 0.99 - ETA: 1s - loss: 0.0067 - accuracy: 0.99 - ETA: 1s - loss: 0.0067 - accuracy: 0.99 - ETA: 1s - loss: 0.0066 - accuracy: 0.99 - ETA: 1s - loss: 0.0066 - accuracy: 0.99 - ETA: 1s - loss: 0.0066 - accuracy: 0.99 - ETA: 1s - loss: 0.0066 - accuracy: 0.99 - ETA: 1s - loss: 0.0066 - accuracy: 0.99 - ETA: 1s - loss: 0.0066 - accuracy: 0.99 - ETA: 1s - loss: 0.0066 - accuracy: 0.99 - ETA: 1s - loss: 0.0066 - accuracy: 0.99 - ETA: 1s - loss: 0.0066 - accuracy: 0.99 - ETA: 1s - loss: 0.0066 - accuracy: 0.99 - ETA: 1s - loss: 0.0066 - accuracy: 0.99 - ETA: 1s - loss: 0.0066 - accuracy: 0.99 - ETA: 0s - loss: 0.0066 - accuracy: 0.99 - ETA: 0s - loss: 0.0065 - accuracy: 0.99 - ETA: 0s - loss: 0.0065 - accuracy: 0.99 - ETA: 0s - loss: 0.0065 - accuracy: 0.99 - ETA: 0s - loss: 0.0064 - accuracy: 0.99 - ETA: 0s - loss: 0.0064 - accuracy: 0.99 - ETA: 0s - loss: 0.0064 - accuracy: 0.99 - ETA: 0s - loss: 0.0064 - accuracy: 0.99 - ETA: 0s - loss: 0.0063 - accuracy: 0.99 - ETA: 0s - loss: 0.0063 - accuracy: 0.99 - ETA: 0s - loss: 0.0063 - accuracy: 0.99 - ETA: 0s - loss: 0.0063 - accuracy: 0.99 - ETA: 0s - loss: 0.0062 - accuracy: 0.99 - ETA: 0s - loss: 0.0062 - accuracy: 0.99 - ETA: 0s - loss: 0.0062 - accuracy: 0.99 - ETA: 0s - loss: 0.0062 - accuracy: 0.99 - ETA: 0s - loss: 0.0061 - accuracy: 0.99 - ETA: 0s - loss: 0.0061 - accuracy: 0.99 - 9s 349us/sample - loss: 0.0061 - accuracy: 0.9996 - val_loss: 0.5966 - val_accuracy: 0.8272\n",
      "Epoch 6/10\n"
     ]
    },
    {
     "name": "stdout",
     "output_type": "stream",
     "text": [
      "25000/25000 [==============================] - ETA: 8s - loss: 0.0027 - accuracy: 1.00 - ETA: 6s - loss: 0.0020 - accuracy: 1.00 - ETA: 6s - loss: 0.0019 - accuracy: 1.00 - ETA: 6s - loss: 0.0019 - accuracy: 1.00 - ETA: 6s - loss: 0.0019 - accuracy: 1.00 - ETA: 6s - loss: 0.0020 - accuracy: 1.00 - ETA: 5s - loss: 0.0020 - accuracy: 1.00 - ETA: 5s - loss: 0.0020 - accuracy: 1.00 - ETA: 5s - loss: 0.0020 - accuracy: 1.00 - ETA: 5s - loss: 0.0020 - accuracy: 1.00 - ETA: 5s - loss: 0.0020 - accuracy: 1.00 - ETA: 5s - loss: 0.0020 - accuracy: 1.00 - ETA: 5s - loss: 0.0020 - accuracy: 1.00 - ETA: 5s - loss: 0.0020 - accuracy: 1.00 - ETA: 5s - loss: 0.0020 - accuracy: 1.00 - ETA: 5s - loss: 0.0020 - accuracy: 1.00 - ETA: 4s - loss: 0.0021 - accuracy: 1.00 - ETA: 4s - loss: 0.0021 - accuracy: 1.00 - ETA: 4s - loss: 0.0021 - accuracy: 1.00 - ETA: 4s - loss: 0.0021 - accuracy: 1.00 - ETA: 4s - loss: 0.0021 - accuracy: 1.00 - ETA: 4s - loss: 0.0021 - accuracy: 1.00 - ETA: 4s - loss: 0.0021 - accuracy: 1.00 - ETA: 4s - loss: 0.0021 - accuracy: 1.00 - ETA: 4s - loss: 0.0020 - accuracy: 1.00 - ETA: 4s - loss: 0.0020 - accuracy: 1.00 - ETA: 4s - loss: 0.0021 - accuracy: 1.00 - ETA: 4s - loss: 0.0020 - accuracy: 1.00 - ETA: 4s - loss: 0.0020 - accuracy: 1.00 - ETA: 4s - loss: 0.0020 - accuracy: 1.00 - ETA: 4s - loss: 0.0021 - accuracy: 1.00 - ETA: 4s - loss: 0.0021 - accuracy: 1.00 - ETA: 4s - loss: 0.0021 - accuracy: 1.00 - ETA: 4s - loss: 0.0021 - accuracy: 1.00 - ETA: 4s - loss: 0.0021 - accuracy: 1.00 - ETA: 4s - loss: 0.0021 - accuracy: 1.00 - ETA: 3s - loss: 0.0021 - accuracy: 1.00 - ETA: 3s - loss: 0.0021 - accuracy: 1.00 - ETA: 3s - loss: 0.0021 - accuracy: 1.00 - ETA: 3s - loss: 0.0020 - accuracy: 1.00 - ETA: 3s - loss: 0.0020 - accuracy: 1.00 - ETA: 3s - loss: 0.0020 - accuracy: 1.00 - ETA: 3s - loss: 0.0020 - accuracy: 1.00 - ETA: 3s - loss: 0.0020 - accuracy: 1.00 - ETA: 3s - loss: 0.0020 - accuracy: 1.00 - ETA: 3s - loss: 0.0020 - accuracy: 1.00 - ETA: 3s - loss: 0.0020 - accuracy: 1.00 - ETA: 3s - loss: 0.0020 - accuracy: 1.00 - ETA: 3s - loss: 0.0020 - accuracy: 1.00 - ETA: 3s - loss: 0.0020 - accuracy: 1.00 - ETA: 3s - loss: 0.0020 - accuracy: 1.00 - ETA: 3s - loss: 0.0020 - accuracy: 1.00 - ETA: 3s - loss: 0.0020 - accuracy: 1.00 - ETA: 2s - loss: 0.0020 - accuracy: 1.00 - ETA: 2s - loss: 0.0020 - accuracy: 1.00 - ETA: 2s - loss: 0.0020 - accuracy: 1.00 - ETA: 2s - loss: 0.0020 - accuracy: 1.00 - ETA: 2s - loss: 0.0020 - accuracy: 1.00 - ETA: 2s - loss: 0.0020 - accuracy: 1.00 - ETA: 2s - loss: 0.0020 - accuracy: 1.00 - ETA: 2s - loss: 0.0020 - accuracy: 1.00 - ETA: 2s - loss: 0.0020 - accuracy: 1.00 - ETA: 2s - loss: 0.0020 - accuracy: 1.00 - ETA: 2s - loss: 0.0020 - accuracy: 1.00 - ETA: 2s - loss: 0.0020 - accuracy: 1.00 - ETA: 2s - loss: 0.0020 - accuracy: 1.00 - ETA: 2s - loss: 0.0020 - accuracy: 1.00 - ETA: 2s - loss: 0.0020 - accuracy: 1.00 - ETA: 2s - loss: 0.0020 - accuracy: 1.00 - ETA: 2s - loss: 0.0020 - accuracy: 1.00 - ETA: 2s - loss: 0.0020 - accuracy: 1.00 - ETA: 2s - loss: 0.0020 - accuracy: 1.00 - ETA: 2s - loss: 0.0020 - accuracy: 1.00 - ETA: 2s - loss: 0.0019 - accuracy: 1.00 - ETA: 2s - loss: 0.0019 - accuracy: 1.00 - ETA: 2s - loss: 0.0019 - accuracy: 1.00 - ETA: 2s - loss: 0.0019 - accuracy: 1.00 - ETA: 1s - loss: 0.0019 - accuracy: 1.00 - ETA: 1s - loss: 0.0019 - accuracy: 1.00 - ETA: 1s - loss: 0.0019 - accuracy: 1.00 - ETA: 1s - loss: 0.0019 - accuracy: 1.00 - ETA: 1s - loss: 0.0019 - accuracy: 1.00 - ETA: 1s - loss: 0.0019 - accuracy: 1.00 - ETA: 1s - loss: 0.0019 - accuracy: 1.00 - ETA: 1s - loss: 0.0019 - accuracy: 1.00 - ETA: 1s - loss: 0.0019 - accuracy: 1.00 - ETA: 1s - loss: 0.0019 - accuracy: 1.00 - ETA: 1s - loss: 0.0019 - accuracy: 1.00 - ETA: 1s - loss: 0.0019 - accuracy: 1.00 - ETA: 1s - loss: 0.0019 - accuracy: 1.00 - ETA: 1s - loss: 0.0019 - accuracy: 1.00 - ETA: 1s - loss: 0.0019 - accuracy: 1.00 - ETA: 1s - loss: 0.0019 - accuracy: 1.00 - ETA: 1s - loss: 0.0019 - accuracy: 1.00 - ETA: 1s - loss: 0.0019 - accuracy: 1.00 - ETA: 0s - loss: 0.0019 - accuracy: 1.00 - ETA: 0s - loss: 0.0019 - accuracy: 1.00 - ETA: 0s - loss: 0.0019 - accuracy: 1.00 - ETA: 0s - loss: 0.0019 - accuracy: 1.00 - ETA: 0s - loss: 0.0019 - accuracy: 1.00 - ETA: 0s - loss: 0.0019 - accuracy: 1.00 - ETA: 0s - loss: 0.0019 - accuracy: 1.00 - ETA: 0s - loss: 0.0019 - accuracy: 1.00 - ETA: 0s - loss: 0.0019 - accuracy: 1.00 - ETA: 0s - loss: 0.0018 - accuracy: 1.00 - ETA: 0s - loss: 0.0018 - accuracy: 1.00 - ETA: 0s - loss: 0.0018 - accuracy: 1.00 - ETA: 0s - loss: 0.0018 - accuracy: 1.00 - ETA: 0s - loss: 0.0018 - accuracy: 1.00 - ETA: 0s - loss: 0.0018 - accuracy: 1.00 - ETA: 0s - loss: 0.0018 - accuracy: 1.00 - ETA: 0s - loss: 0.0018 - accuracy: 1.00 - ETA: 0s - loss: 0.0018 - accuracy: 1.00 - ETA: 0s - loss: 0.0018 - accuracy: 1.00 - 9s 359us/sample - loss: 0.0018 - accuracy: 1.0000 - val_loss: 0.6514 - val_accuracy: 0.8280\n",
      "Epoch 7/10\n"
     ]
    },
    {
     "name": "stdout",
     "output_type": "stream",
     "text": [
      "25000/25000 [==============================] - ETA: 14s - loss: 0.0015 - accuracy: 1.000 - ETA: 7s - loss: 0.0012 - accuracy: 1.000 - ETA: 6s - loss: 0.0015 - accuracy: 1.00 - ETA: 6s - loss: 0.0014 - accuracy: 1.00 - ETA: 6s - loss: 0.0013 - accuracy: 1.00 - ETA: 5s - loss: 0.0014 - accuracy: 1.00 - ETA: 5s - loss: 0.0013 - accuracy: 1.00 - ETA: 5s - loss: 0.0013 - accuracy: 1.00 - ETA: 5s - loss: 0.0012 - accuracy: 1.00 - ETA: 5s - loss: 0.0012 - accuracy: 1.00 - ETA: 5s - loss: 0.0012 - accuracy: 1.00 - ETA: 5s - loss: 0.0012 - accuracy: 1.00 - ETA: 5s - loss: 0.0011 - accuracy: 1.00 - ETA: 5s - loss: 0.0011 - accuracy: 1.00 - ETA: 5s - loss: 0.0011 - accuracy: 1.00 - ETA: 5s - loss: 0.0011 - accuracy: 1.00 - ETA: 5s - loss: 0.0011 - accuracy: 1.00 - ETA: 5s - loss: 0.0011 - accuracy: 1.00 - ETA: 4s - loss: 0.0011 - accuracy: 1.00 - ETA: 4s - loss: 0.0011 - accuracy: 1.00 - ETA: 4s - loss: 0.0011 - accuracy: 1.00 - ETA: 4s - loss: 0.0011 - accuracy: 1.00 - ETA: 4s - loss: 0.0011 - accuracy: 1.00 - ETA: 4s - loss: 0.0011 - accuracy: 1.00 - ETA: 4s - loss: 0.0011 - accuracy: 1.00 - ETA: 4s - loss: 0.0011 - accuracy: 1.00 - ETA: 4s - loss: 0.0010 - accuracy: 1.00 - ETA: 4s - loss: 0.0010 - accuracy: 1.00 - ETA: 4s - loss: 0.0010 - accuracy: 1.00 - ETA: 4s - loss: 0.0010 - accuracy: 1.00 - ETA: 4s - loss: 0.0010 - accuracy: 1.00 - ETA: 4s - loss: 0.0010 - accuracy: 1.00 - ETA: 4s - loss: 0.0010 - accuracy: 1.00 - ETA: 3s - loss: 0.0010 - accuracy: 1.00 - ETA: 3s - loss: 0.0010 - accuracy: 1.00 - ETA: 3s - loss: 0.0010 - accuracy: 1.00 - ETA: 3s - loss: 0.0010 - accuracy: 1.00 - ETA: 3s - loss: 0.0010 - accuracy: 1.00 - ETA: 3s - loss: 9.9807e-04 - accuracy: 1.00 - ETA: 3s - loss: 9.9459e-04 - accuracy: 1.00 - ETA: 3s - loss: 9.9535e-04 - accuracy: 1.00 - ETA: 3s - loss: 9.9374e-04 - accuracy: 1.00 - ETA: 3s - loss: 9.9190e-04 - accuracy: 1.00 - ETA: 3s - loss: 9.9475e-04 - accuracy: 1.00 - ETA: 3s - loss: 9.8930e-04 - accuracy: 1.00 - ETA: 3s - loss: 0.0010 - accuracy: 1.0000   - ETA: 3s - loss: 0.0010 - accuracy: 1.00 - ETA: 3s - loss: 9.9986e-04 - accuracy: 1.00 - ETA: 3s - loss: 9.9658e-04 - accuracy: 1.00 - ETA: 3s - loss: 9.9262e-04 - accuracy: 1.00 - ETA: 3s - loss: 9.8643e-04 - accuracy: 1.00 - ETA: 3s - loss: 9.8069e-04 - accuracy: 1.00 - ETA: 2s - loss: 9.7758e-04 - accuracy: 1.00 - ETA: 2s - loss: 9.7360e-04 - accuracy: 1.00 - ETA: 2s - loss: 9.7131e-04 - accuracy: 1.00 - ETA: 2s - loss: 9.6814e-04 - accuracy: 1.00 - ETA: 2s - loss: 9.6559e-04 - accuracy: 1.00 - ETA: 2s - loss: 9.6403e-04 - accuracy: 1.00 - ETA: 2s - loss: 9.5892e-04 - accuracy: 1.00 - ETA: 2s - loss: 9.5415e-04 - accuracy: 1.00 - ETA: 2s - loss: 9.4900e-04 - accuracy: 1.00 - ETA: 2s - loss: 9.4799e-04 - accuracy: 1.00 - ETA: 2s - loss: 9.5005e-04 - accuracy: 1.00 - ETA: 2s - loss: 9.4745e-04 - accuracy: 1.00 - ETA: 2s - loss: 9.4498e-04 - accuracy: 1.00 - ETA: 2s - loss: 9.4441e-04 - accuracy: 1.00 - ETA: 2s - loss: 9.4193e-04 - accuracy: 1.00 - ETA: 2s - loss: 9.3878e-04 - accuracy: 1.00 - ETA: 2s - loss: 9.3649e-04 - accuracy: 1.00 - ETA: 2s - loss: 9.3464e-04 - accuracy: 1.00 - ETA: 1s - loss: 9.3463e-04 - accuracy: 1.00 - ETA: 1s - loss: 9.3281e-04 - accuracy: 1.00 - ETA: 1s - loss: 9.3458e-04 - accuracy: 1.00 - ETA: 1s - loss: 9.3107e-04 - accuracy: 1.00 - ETA: 1s - loss: 9.2943e-04 - accuracy: 1.00 - ETA: 1s - loss: 9.3025e-04 - accuracy: 1.00 - ETA: 1s - loss: 9.3162e-04 - accuracy: 1.00 - ETA: 1s - loss: 9.2839e-04 - accuracy: 1.00 - ETA: 1s - loss: 9.2554e-04 - accuracy: 1.00 - ETA: 1s - loss: 9.2099e-04 - accuracy: 1.00 - ETA: 1s - loss: 9.2084e-04 - accuracy: 1.00 - ETA: 1s - loss: 9.1668e-04 - accuracy: 1.00 - ETA: 1s - loss: 9.1410e-04 - accuracy: 1.00 - ETA: 1s - loss: 9.1013e-04 - accuracy: 1.00 - ETA: 1s - loss: 9.0754e-04 - accuracy: 1.00 - ETA: 1s - loss: 9.0448e-04 - accuracy: 1.00 - ETA: 1s - loss: 9.0169e-04 - accuracy: 1.00 - ETA: 0s - loss: 9.0026e-04 - accuracy: 1.00 - ETA: 0s - loss: 8.9939e-04 - accuracy: 1.00 - ETA: 0s - loss: 8.9941e-04 - accuracy: 1.00 - ETA: 0s - loss: 8.9846e-04 - accuracy: 1.00 - ETA: 0s - loss: 8.9769e-04 - accuracy: 1.00 - ETA: 0s - loss: 8.9885e-04 - accuracy: 1.00 - ETA: 0s - loss: 8.9739e-04 - accuracy: 1.00 - ETA: 0s - loss: 8.9549e-04 - accuracy: 1.00 - ETA: 0s - loss: 8.9530e-04 - accuracy: 1.00 - ETA: 0s - loss: 8.9424e-04 - accuracy: 1.00 - ETA: 0s - loss: 8.9314e-04 - accuracy: 1.00 - ETA: 0s - loss: 8.9117e-04 - accuracy: 1.00 - ETA: 0s - loss: 8.8980e-04 - accuracy: 1.00 - ETA: 0s - loss: 8.8798e-04 - accuracy: 1.00 - ETA: 0s - loss: 8.8561e-04 - accuracy: 1.00 - ETA: 0s - loss: 8.8439e-04 - accuracy: 1.00 - ETA: 0s - loss: 8.8149e-04 - accuracy: 1.00 - ETA: 0s - loss: 8.7953e-04 - accuracy: 1.00 - ETA: 0s - loss: 8.7676e-04 - accuracy: 1.00 - 9s 340us/sample - loss: 8.7723e-04 - accuracy: 1.0000 - val_loss: 0.6905 - val_accuracy: 0.8295\n",
      "Epoch 8/10\n"
     ]
    },
    {
     "name": "stdout",
     "output_type": "stream",
     "text": [
      "25000/25000 [==============================] - ETA: 7s - loss: 5.1794e-04 - accuracy: 1.00 - ETA: 6s - loss: 5.3668e-04 - accuracy: 1.00 - ETA: 5s - loss: 5.3726e-04 - accuracy: 1.00 - ETA: 5s - loss: 5.3413e-04 - accuracy: 1.00 - ETA: 5s - loss: 5.5765e-04 - accuracy: 1.00 - ETA: 5s - loss: 5.5246e-04 - accuracy: 1.00 - ETA: 5s - loss: 5.5095e-04 - accuracy: 1.00 - ETA: 5s - loss: 5.5260e-04 - accuracy: 1.00 - ETA: 5s - loss: 5.4990e-04 - accuracy: 1.00 - ETA: 5s - loss: 5.6913e-04 - accuracy: 1.00 - ETA: 5s - loss: 5.6239e-04 - accuracy: 1.00 - ETA: 5s - loss: 5.5551e-04 - accuracy: 1.00 - ETA: 5s - loss: 5.4439e-04 - accuracy: 1.00 - ETA: 5s - loss: 5.4826e-04 - accuracy: 1.00 - ETA: 5s - loss: 5.5008e-04 - accuracy: 1.00 - ETA: 5s - loss: 5.4395e-04 - accuracy: 1.00 - ETA: 5s - loss: 5.4200e-04 - accuracy: 1.00 - ETA: 5s - loss: 5.4182e-04 - accuracy: 1.00 - ETA: 4s - loss: 5.4061e-04 - accuracy: 1.00 - ETA: 4s - loss: 5.3731e-04 - accuracy: 1.00 - ETA: 4s - loss: 5.3500e-04 - accuracy: 1.00 - ETA: 4s - loss: 5.3269e-04 - accuracy: 1.00 - ETA: 4s - loss: 5.3353e-04 - accuracy: 1.00 - ETA: 4s - loss: 5.3336e-04 - accuracy: 1.00 - ETA: 4s - loss: 5.2770e-04 - accuracy: 1.00 - ETA: 4s - loss: 5.2803e-04 - accuracy: 1.00 - ETA: 4s - loss: 5.2809e-04 - accuracy: 1.00 - ETA: 4s - loss: 5.2951e-04 - accuracy: 1.00 - ETA: 4s - loss: 5.2983e-04 - accuracy: 1.00 - ETA: 4s - loss: 5.3471e-04 - accuracy: 1.00 - ETA: 4s - loss: 5.3607e-04 - accuracy: 1.00 - ETA: 4s - loss: 5.3694e-04 - accuracy: 1.00 - ETA: 4s - loss: 5.3995e-04 - accuracy: 1.00 - ETA: 4s - loss: 5.3819e-04 - accuracy: 1.00 - ETA: 4s - loss: 5.3512e-04 - accuracy: 1.00 - ETA: 3s - loss: 5.3372e-04 - accuracy: 1.00 - ETA: 3s - loss: 5.3145e-04 - accuracy: 1.00 - ETA: 3s - loss: 5.3671e-04 - accuracy: 1.00 - ETA: 3s - loss: 5.3229e-04 - accuracy: 1.00 - ETA: 3s - loss: 5.3077e-04 - accuracy: 1.00 - ETA: 3s - loss: 5.2998e-04 - accuracy: 1.00 - ETA: 3s - loss: 5.2843e-04 - accuracy: 1.00 - ETA: 3s - loss: 5.2696e-04 - accuracy: 1.00 - ETA: 3s - loss: 5.2740e-04 - accuracy: 1.00 - ETA: 3s - loss: 5.2593e-04 - accuracy: 1.00 - ETA: 3s - loss: 5.2326e-04 - accuracy: 1.00 - ETA: 3s - loss: 5.2322e-04 - accuracy: 1.00 - ETA: 3s - loss: 5.2351e-04 - accuracy: 1.00 - ETA: 3s - loss: 5.2312e-04 - accuracy: 1.00 - ETA: 3s - loss: 5.2093e-04 - accuracy: 1.00 - ETA: 3s - loss: 5.2028e-04 - accuracy: 1.00 - ETA: 3s - loss: 5.2239e-04 - accuracy: 1.00 - ETA: 3s - loss: 5.2002e-04 - accuracy: 1.00 - ETA: 3s - loss: 5.2046e-04 - accuracy: 1.00 - ETA: 2s - loss: 5.1859e-04 - accuracy: 1.00 - ETA: 2s - loss: 5.1936e-04 - accuracy: 1.00 - ETA: 2s - loss: 5.1664e-04 - accuracy: 1.00 - ETA: 2s - loss: 5.1684e-04 - accuracy: 1.00 - ETA: 2s - loss: 5.1577e-04 - accuracy: 1.00 - ETA: 2s - loss: 5.1319e-04 - accuracy: 1.00 - ETA: 2s - loss: 5.1221e-04 - accuracy: 1.00 - ETA: 2s - loss: 5.1300e-04 - accuracy: 1.00 - ETA: 2s - loss: 5.1104e-04 - accuracy: 1.00 - ETA: 2s - loss: 5.0968e-04 - accuracy: 1.00 - ETA: 2s - loss: 5.0674e-04 - accuracy: 1.00 - ETA: 2s - loss: 5.0599e-04 - accuracy: 1.00 - ETA: 2s - loss: 5.0410e-04 - accuracy: 1.00 - ETA: 2s - loss: 5.0236e-04 - accuracy: 1.00 - ETA: 2s - loss: 5.0254e-04 - accuracy: 1.00 - ETA: 2s - loss: 5.0105e-04 - accuracy: 1.00 - ETA: 2s - loss: 5.0095e-04 - accuracy: 1.00 - ETA: 2s - loss: 5.0117e-04 - accuracy: 1.00 - ETA: 2s - loss: 4.9976e-04 - accuracy: 1.00 - ETA: 1s - loss: 4.9860e-04 - accuracy: 1.00 - ETA: 1s - loss: 4.9771e-04 - accuracy: 1.00 - ETA: 1s - loss: 4.9656e-04 - accuracy: 1.00 - ETA: 1s - loss: 4.9531e-04 - accuracy: 1.00 - ETA: 1s - loss: 4.9531e-04 - accuracy: 1.00 - ETA: 1s - loss: 4.9438e-04 - accuracy: 1.00 - ETA: 1s - loss: 4.9519e-04 - accuracy: 1.00 - ETA: 1s - loss: 4.9426e-04 - accuracy: 1.00 - ETA: 1s - loss: 4.9255e-04 - accuracy: 1.00 - ETA: 1s - loss: 4.9201e-04 - accuracy: 1.00 - ETA: 1s - loss: 4.9037e-04 - accuracy: 1.00 - ETA: 1s - loss: 4.9041e-04 - accuracy: 1.00 - ETA: 1s - loss: 4.8957e-04 - accuracy: 1.00 - ETA: 1s - loss: 4.8745e-04 - accuracy: 1.00 - ETA: 1s - loss: 4.8624e-04 - accuracy: 1.00 - ETA: 1s - loss: 4.8512e-04 - accuracy: 1.00 - ETA: 1s - loss: 4.8427e-04 - accuracy: 1.00 - ETA: 1s - loss: 4.8292e-04 - accuracy: 1.00 - ETA: 1s - loss: 4.8337e-04 - accuracy: 1.00 - ETA: 0s - loss: 4.8269e-04 - accuracy: 1.00 - ETA: 0s - loss: 4.8304e-04 - accuracy: 1.00 - ETA: 0s - loss: 4.8273e-04 - accuracy: 1.00 - ETA: 0s - loss: 4.8211e-04 - accuracy: 1.00 - ETA: 0s - loss: 4.8030e-04 - accuracy: 1.00 - ETA: 0s - loss: 4.8030e-04 - accuracy: 1.00 - ETA: 0s - loss: 4.8009e-04 - accuracy: 1.00 - ETA: 0s - loss: 4.7953e-04 - accuracy: 1.00 - ETA: 0s - loss: 4.7816e-04 - accuracy: 1.00 - ETA: 0s - loss: 4.7733e-04 - accuracy: 1.00 - ETA: 0s - loss: 4.7772e-04 - accuracy: 1.00 - ETA: 0s - loss: 4.7952e-04 - accuracy: 1.00 - ETA: 0s - loss: 4.7786e-04 - accuracy: 1.00 - ETA: 0s - loss: 4.7724e-04 - accuracy: 1.00 - ETA: 0s - loss: 4.7642e-04 - accuracy: 1.00 - ETA: 0s - loss: 4.7554e-04 - accuracy: 1.00 - ETA: 0s - loss: 4.7434e-04 - accuracy: 1.00 - ETA: 0s - loss: 4.7387e-04 - accuracy: 1.00 - ETA: 0s - loss: 4.7304e-04 - accuracy: 1.00 - ETA: 0s - loss: 4.7188e-04 - accuracy: 1.00 - 9s 360us/sample - loss: 4.7182e-04 - accuracy: 1.0000 - val_loss: 0.7313 - val_accuracy: 0.8293\n",
      "Epoch 9/10\n"
     ]
    },
    {
     "name": "stdout",
     "output_type": "stream",
     "text": [
      "24192/25000 [============================>.] - ETA: 7s - loss: 1.8675e-04 - accuracy: 1.00 - ETA: 6s - loss: 2.7131e-04 - accuracy: 1.00 - ETA: 6s - loss: 2.7258e-04 - accuracy: 1.00 - ETA: 6s - loss: 2.8274e-04 - accuracy: 1.00 - ETA: 6s - loss: 3.1150e-04 - accuracy: 1.00 - ETA: 6s - loss: 3.1379e-04 - accuracy: 1.00 - ETA: 6s - loss: 3.1053e-04 - accuracy: 1.00 - ETA: 6s - loss: 3.0403e-04 - accuracy: 1.00 - ETA: 6s - loss: 2.9904e-04 - accuracy: 1.00 - ETA: 6s - loss: 3.0033e-04 - accuracy: 1.00 - ETA: 5s - loss: 3.0720e-04 - accuracy: 1.00 - ETA: 5s - loss: 3.0879e-04 - accuracy: 1.00 - ETA: 5s - loss: 3.0408e-04 - accuracy: 1.00 - ETA: 5s - loss: 2.9985e-04 - accuracy: 1.00 - ETA: 5s - loss: 2.9934e-04 - accuracy: 1.00 - ETA: 5s - loss: 3.0331e-04 - accuracy: 1.00 - ETA: 5s - loss: 3.0133e-04 - accuracy: 1.00 - ETA: 5s - loss: 3.0083e-04 - accuracy: 1.00 - ETA: 5s - loss: 2.9862e-04 - accuracy: 1.00 - ETA: 5s - loss: 2.9578e-04 - accuracy: 1.00 - ETA: 5s - loss: 2.9495e-04 - accuracy: 1.00 - ETA: 5s - loss: 2.9370e-04 - accuracy: 1.00 - ETA: 5s - loss: 2.9148e-04 - accuracy: 1.00 - ETA: 5s - loss: 2.9171e-04 - accuracy: 1.00 - ETA: 5s - loss: 2.9026e-04 - accuracy: 1.00 - ETA: 5s - loss: 2.9046e-04 - accuracy: 1.00 - ETA: 5s - loss: 2.9000e-04 - accuracy: 1.00 - ETA: 5s - loss: 2.9161e-04 - accuracy: 1.00 - ETA: 5s - loss: 2.9631e-04 - accuracy: 1.00 - ETA: 5s - loss: 2.9770e-04 - accuracy: 1.00 - ETA: 5s - loss: 2.9570e-04 - accuracy: 1.00 - ETA: 4s - loss: 2.9480e-04 - accuracy: 1.00 - ETA: 4s - loss: 2.9796e-04 - accuracy: 1.00 - ETA: 4s - loss: 2.9856e-04 - accuracy: 1.00 - ETA: 4s - loss: 3.0000e-04 - accuracy: 1.00 - ETA: 4s - loss: 3.0433e-04 - accuracy: 1.00 - ETA: 4s - loss: 3.0444e-04 - accuracy: 1.00 - ETA: 4s - loss: 3.0591e-04 - accuracy: 1.00 - ETA: 4s - loss: 3.0516e-04 - accuracy: 1.00 - ETA: 4s - loss: 3.0528e-04 - accuracy: 1.00 - ETA: 4s - loss: 3.0450e-04 - accuracy: 1.00 - ETA: 4s - loss: 3.0312e-04 - accuracy: 1.00 - ETA: 4s - loss: 3.0221e-04 - accuracy: 1.00 - ETA: 4s - loss: 3.0168e-04 - accuracy: 1.00 - ETA: 4s - loss: 3.0137e-04 - accuracy: 1.00 - ETA: 4s - loss: 3.0162e-04 - accuracy: 1.00 - ETA: 3s - loss: 3.0224e-04 - accuracy: 1.00 - ETA: 3s - loss: 3.0162e-04 - accuracy: 1.00 - ETA: 3s - loss: 3.0034e-04 - accuracy: 1.00 - ETA: 3s - loss: 2.9952e-04 - accuracy: 1.00 - ETA: 3s - loss: 2.9820e-04 - accuracy: 1.00 - ETA: 3s - loss: 2.9701e-04 - accuracy: 1.00 - ETA: 3s - loss: 2.9630e-04 - accuracy: 1.00 - ETA: 3s - loss: 2.9526e-04 - accuracy: 1.00 - ETA: 3s - loss: 2.9429e-04 - accuracy: 1.00 - ETA: 3s - loss: 2.9389e-04 - accuracy: 1.00 - ETA: 3s - loss: 2.9230e-04 - accuracy: 1.00 - ETA: 3s - loss: 2.9230e-04 - accuracy: 1.00 - ETA: 3s - loss: 2.9185e-04 - accuracy: 1.00 - ETA: 3s - loss: 2.9205e-04 - accuracy: 1.00 - ETA: 3s - loss: 2.9133e-04 - accuracy: 1.00 - ETA: 3s - loss: 2.9065e-04 - accuracy: 1.00 - ETA: 3s - loss: 2.9050e-04 - accuracy: 1.00 - ETA: 3s - loss: 2.9051e-04 - accuracy: 1.00 - ETA: 3s - loss: 2.9072e-04 - accuracy: 1.00 - ETA: 3s - loss: 2.9081e-04 - accuracy: 1.00 - ETA: 3s - loss: 2.8987e-04 - accuracy: 1.00 - ETA: 3s - loss: 2.8972e-04 - accuracy: 1.00 - ETA: 3s - loss: 2.8930e-04 - accuracy: 1.00 - ETA: 3s - loss: 2.8893e-04 - accuracy: 1.00 - ETA: 3s - loss: 2.8882e-04 - accuracy: 1.00 - ETA: 3s - loss: 2.8853e-04 - accuracy: 1.00 - ETA: 3s - loss: 2.8851e-04 - accuracy: 1.00 - ETA: 3s - loss: 2.8803e-04 - accuracy: 1.00 - ETA: 3s - loss: 2.8769e-04 - accuracy: 1.00 - ETA: 3s - loss: 2.8742e-04 - accuracy: 1.00 - ETA: 3s - loss: 2.8693e-04 - accuracy: 1.00 - ETA: 3s - loss: 2.8721e-04 - accuracy: 1.00 - ETA: 3s - loss: 2.8692e-04 - accuracy: 1.00 - ETA: 3s - loss: 2.8684e-04 - accuracy: 1.00 - ETA: 3s - loss: 2.8672e-04 - accuracy: 1.00 - ETA: 3s - loss: 2.8706e-04 - accuracy: 1.00 - ETA: 3s - loss: 2.8711e-04 - accuracy: 1.00 - ETA: 3s - loss: 2.8714e-04 - accuracy: 1.00 - ETA: 3s - loss: 2.8696e-04 - accuracy: 1.00 - ETA: 3s - loss: 2.8727e-04 - accuracy: 1.00 - ETA: 3s - loss: 2.8691e-04 - accuracy: 1.00 - ETA: 3s - loss: 2.8701e-04 - accuracy: 1.00 - ETA: 3s - loss: 2.8731e-04 - accuracy: 1.00 - ETA: 2s - loss: 2.8736e-04 - accuracy: 1.00 - ETA: 2s - loss: 2.8747e-04 - accuracy: 1.00 - ETA: 2s - loss: 2.8732e-04 - accuracy: 1.00 - ETA: 2s - loss: 2.8713e-04 - accuracy: 1.00 - ETA: 2s - loss: 2.8679e-04 - accuracy: 1.00 - ETA: 2s - loss: 2.8624e-04 - accuracy: 1.00 - ETA: 2s - loss: 2.8582e-04 - accuracy: 1.00 - ETA: 2s - loss: 2.8601e-04 - accuracy: 1.00 - ETA: 2s - loss: 2.8606e-04 - accuracy: 1.00 - ETA: 2s - loss: 2.8581e-04 - accuracy: 1.00 - ETA: 2s - loss: 2.8543e-04 - accuracy: 1.00 - ETA: 2s - loss: 2.8509e-04 - accuracy: 1.00 - ETA: 2s - loss: 2.8568e-04 - accuracy: 1.00 - ETA: 2s - loss: 2.8532e-04 - accuracy: 1.00 - ETA: 2s - loss: 2.8475e-04 - accuracy: 1.00 - ETA: 2s - loss: 2.8448e-04 - accuracy: 1.00 - ETA: 2s - loss: 2.8486e-04 - accuracy: 1.00 - ETA: 2s - loss: 2.8473e-04 - accuracy: 1.00 - ETA: 2s - loss: 2.8423e-04 - accuracy: 1.00 - ETA: 2s - loss: 2.8384e-04 - accuracy: 1.00 - ETA: 2s - loss: 2.8362e-04 - accuracy: 1.00 - ETA: 2s - loss: 2.8313e-04 - accuracy: 1.00 - ETA: 2s - loss: 2.8344e-04 - accuracy: 1.00 - ETA: 2s - loss: 2.8320e-04 - accuracy: 1.00 - ETA: 2s - loss: 2.8314e-04 - accuracy: 1.00 - ETA: 2s - loss: 2.8287e-04 - accuracy: 1.00 - ETA: 2s - loss: 2.8299e-04 - accuracy: 1.00 - ETA: 2s - loss: 2.8293e-04 - accuracy: 1.00 - ETA: 2s - loss: 2.8266e-04 - accuracy: 1.00 - ETA: 2s - loss: 2.8285e-04 - accuracy: 1.00 - ETA: 2s - loss: 2.8287e-04 - accuracy: 1.00 - ETA: 2s - loss: 2.8261e-04 - accuracy: 1.00 - ETA: 2s - loss: 2.8284e-04 - accuracy: 1.00 - ETA: 2s - loss: 2.8286e-04 - accuracy: 1.00 - ETA: 2s - loss: 2.8232e-04 - accuracy: 1.00 - ETA: 2s - loss: 2.8193e-04 - accuracy: 1.00 - ETA: 2s - loss: 2.8203e-04 - accuracy: 1.00 - ETA: 2s - loss: 2.8158e-04 - accuracy: 1.00 - ETA: 2s - loss: 2.8133e-04 - accuracy: 1.00 - ETA: 2s - loss: 2.8108e-04 - accuracy: 1.00 - ETA: 2s - loss: 2.8109e-04 - accuracy: 1.00 - ETA: 2s - loss: 2.8086e-04 - accuracy: 1.00 - ETA: 2s - loss: 2.8056e-04 - accuracy: 1.00 - ETA: 1s - loss: 2.8059e-04 - accuracy: 1.00 - ETA: 1s - loss: 2.8025e-04 - accuracy: 1.00 - ETA: 1s - loss: 2.8033e-04 - accuracy: 1.00 - ETA: 1s - loss: 2.7983e-04 - accuracy: 1.00 - ETA: 1s - loss: 2.7946e-04 - accuracy: 1.00 - ETA: 1s - loss: 2.7912e-04 - accuracy: 1.00 - ETA: 1s - loss: 2.7941e-04 - accuracy: 1.00 - ETA: 1s - loss: 2.7942e-04 - accuracy: 1.00 - ETA: 1s - loss: 2.7912e-04 - accuracy: 1.00 - ETA: 1s - loss: 2.7964e-04 - accuracy: 1.00 - ETA: 1s - loss: 2.7917e-04 - accuracy: 1.00 - ETA: 1s - loss: 2.7897e-04 - accuracy: 1.00 - ETA: 1s - loss: 2.7868e-04 - accuracy: 1.00 - ETA: 1s - loss: 2.7822e-04 - accuracy: 1.00 - ETA: 1s - loss: 2.7823e-04 - accuracy: 1.00 - ETA: 1s - loss: 2.7788e-04 - accuracy: 1.00 - ETA: 1s - loss: 2.7758e-04 - accuracy: 1.00 - ETA: 1s - loss: 2.7723e-04 - accuracy: 1.00 - ETA: 1s - loss: 2.7677e-04 - accuracy: 1.00 - ETA: 1s - loss: 2.7696e-04 - accuracy: 1.00 - ETA: 1s - loss: 2.7783e-04 - accuracy: 1.00 - ETA: 1s - loss: 2.7784e-04 - accuracy: 1.00 - ETA: 1s - loss: 2.7751e-04 - accuracy: 1.00 - ETA: 1s - loss: 2.7740e-04 - accuracy: 1.00 - ETA: 1s - loss: 2.7713e-04 - accuracy: 1.00 - ETA: 1s - loss: 2.7667e-04 - accuracy: 1.00 - ETA: 1s - loss: 2.7702e-04 - accuracy: 1.00 - ETA: 1s - loss: 2.7738e-04 - accuracy: 1.00 - ETA: 0s - loss: 2.7757e-04 - accuracy: 1.00 - ETA: 0s - loss: 2.7740e-04 - accuracy: 1.00 - ETA: 0s - loss: 2.7693e-04 - accuracy: 1.00 - ETA: 0s - loss: 2.7674e-04 - accuracy: 1.00 - ETA: 0s - loss: 2.7713e-04 - accuracy: 1.00 - ETA: 0s - loss: 2.7691e-04 - accuracy: 1.00 - ETA: 0s - loss: 2.7712e-04 - accuracy: 1.00 - ETA: 0s - loss: 2.7667e-04 - accuracy: 1.00 - ETA: 0s - loss: 2.7681e-04 - accuracy: 1.00 - ETA: 0s - loss: 2.7653e-04 - accuracy: 1.00 - ETA: 0s - loss: 2.7634e-04 - accuracy: 1.00 - ETA: 0s - loss: 2.7715e-04 - accuracy: 1.00 - ETA: 0s - loss: 2.7690e-04 - accuracy: 1.00 - ETA: 0s - loss: 2.7667e-04 - accuracy: 1.00 - ETA: 0s - loss: 2.7692e-04 - accuracy: 1.00 - ETA: 0s - loss: 2.7711e-04 - accuracy: 1.00 - ETA: 0s - loss: 2.7697e-04 - accuracy: 1.00 - ETA: 0s - loss: 2.7661e-04 - accuracy: 1.0000"
     ]
    },
    {
     "name": "stdout",
     "output_type": "stream",
     "text": [
      "25000/25000 [==============================] - ETA: 0s - loss: 2.7673e-04 - accuracy: 1.00 - ETA: 0s - loss: 2.7636e-04 - accuracy: 1.00 - ETA: 0s - loss: 2.7629e-04 - accuracy: 1.00 - ETA: 0s - loss: 2.7612e-04 - accuracy: 1.00 - ETA: 0s - loss: 2.7621e-04 - accuracy: 1.00 - ETA: 0s - loss: 2.7605e-04 - accuracy: 1.00 - ETA: 0s - loss: 2.7582e-04 - accuracy: 1.00 - ETA: 0s - loss: 2.7550e-04 - accuracy: 1.00 - 16s 645us/sample - loss: 2.7541e-04 - accuracy: 1.0000 - val_loss: 0.7690 - val_accuracy: 0.8293\n",
      "Epoch 10/10\n"
     ]
    },
    {
     "name": "stdout",
     "output_type": "stream",
     "text": [
      "18560/25000 [=====================>........] - ETA: 16s - loss: 1.3129e-04 - accuracy: 1.000 - ETA: 15s - loss: 1.6085e-04 - accuracy: 1.000 - ETA: 14s - loss: 1.6555e-04 - accuracy: 1.000 - ETA: 15s - loss: 1.7669e-04 - accuracy: 1.000 - ETA: 14s - loss: 1.7865e-04 - accuracy: 1.000 - ETA: 14s - loss: 1.7526e-04 - accuracy: 1.000 - ETA: 13s - loss: 1.7684e-04 - accuracy: 1.000 - ETA: 13s - loss: 1.7937e-04 - accuracy: 1.000 - ETA: 13s - loss: 1.7837e-04 - accuracy: 1.000 - ETA: 13s - loss: 1.7974e-04 - accuracy: 1.000 - ETA: 13s - loss: 1.7863e-04 - accuracy: 1.000 - ETA: 13s - loss: 1.7976e-04 - accuracy: 1.000 - ETA: 13s - loss: 1.8063e-04 - accuracy: 1.000 - ETA: 13s - loss: 1.7748e-04 - accuracy: 1.000 - ETA: 13s - loss: 1.8057e-04 - accuracy: 1.000 - ETA: 13s - loss: 1.7798e-04 - accuracy: 1.000 - ETA: 13s - loss: 1.7561e-04 - accuracy: 1.000 - ETA: 13s - loss: 1.8488e-04 - accuracy: 1.000 - ETA: 13s - loss: 1.8498e-04 - accuracy: 1.000 - ETA: 13s - loss: 1.8832e-04 - accuracy: 1.000 - ETA: 12s - loss: 1.8616e-04 - accuracy: 1.000 - ETA: 12s - loss: 1.9002e-04 - accuracy: 1.000 - ETA: 12s - loss: 1.9139e-04 - accuracy: 1.000 - ETA: 12s - loss: 1.9163e-04 - accuracy: 1.000 - ETA: 12s - loss: 1.9615e-04 - accuracy: 1.000 - ETA: 12s - loss: 1.9551e-04 - accuracy: 1.000 - ETA: 12s - loss: 1.9267e-04 - accuracy: 1.000 - ETA: 12s - loss: 1.9268e-04 - accuracy: 1.000 - ETA: 12s - loss: 1.9425e-04 - accuracy: 1.000 - ETA: 12s - loss: 1.9489e-04 - accuracy: 1.000 - ETA: 12s - loss: 1.9550e-04 - accuracy: 1.000 - ETA: 12s - loss: 1.9505e-04 - accuracy: 1.000 - ETA: 12s - loss: 1.9406e-04 - accuracy: 1.000 - ETA: 12s - loss: 1.9354e-04 - accuracy: 1.000 - ETA: 12s - loss: 1.9375e-04 - accuracy: 1.000 - ETA: 12s - loss: 1.9302e-04 - accuracy: 1.000 - ETA: 11s - loss: 1.9214e-04 - accuracy: 1.000 - ETA: 11s - loss: 1.9215e-04 - accuracy: 1.000 - ETA: 11s - loss: 1.9200e-04 - accuracy: 1.000 - ETA: 11s - loss: 1.9202e-04 - accuracy: 1.000 - ETA: 11s - loss: 1.9259e-04 - accuracy: 1.000 - ETA: 11s - loss: 1.9275e-04 - accuracy: 1.000 - ETA: 11s - loss: 1.9317e-04 - accuracy: 1.000 - ETA: 11s - loss: 1.9366e-04 - accuracy: 1.000 - ETA: 11s - loss: 1.9294e-04 - accuracy: 1.000 - ETA: 11s - loss: 1.9190e-04 - accuracy: 1.000 - ETA: 11s - loss: 1.9125e-04 - accuracy: 1.000 - ETA: 11s - loss: 1.9141e-04 - accuracy: 1.000 - ETA: 11s - loss: 1.9150e-04 - accuracy: 1.000 - ETA: 11s - loss: 1.9136e-04 - accuracy: 1.000 - ETA: 11s - loss: 1.9248e-04 - accuracy: 1.000 - ETA: 11s - loss: 1.9136e-04 - accuracy: 1.000 - ETA: 11s - loss: 1.9056e-04 - accuracy: 1.000 - ETA: 10s - loss: 1.9150e-04 - accuracy: 1.000 - ETA: 10s - loss: 1.9135e-04 - accuracy: 1.000 - ETA: 10s - loss: 1.9052e-04 - accuracy: 1.000 - ETA: 10s - loss: 1.8992e-04 - accuracy: 1.000 - ETA: 10s - loss: 1.9017e-04 - accuracy: 1.000 - ETA: 10s - loss: 1.8975e-04 - accuracy: 1.000 - ETA: 10s - loss: 1.8968e-04 - accuracy: 1.000 - ETA: 10s - loss: 1.8917e-04 - accuracy: 1.000 - ETA: 10s - loss: 1.9015e-04 - accuracy: 1.000 - ETA: 10s - loss: 1.8911e-04 - accuracy: 1.000 - ETA: 9s - loss: 1.8826e-04 - accuracy: 1.000 - ETA: 9s - loss: 1.8759e-04 - accuracy: 1.00 - ETA: 9s - loss: 1.8744e-04 - accuracy: 1.00 - ETA: 9s - loss: 1.8782e-04 - accuracy: 1.00 - ETA: 9s - loss: 1.8740e-04 - accuracy: 1.00 - ETA: 9s - loss: 1.8680e-04 - accuracy: 1.00 - ETA: 9s - loss: 1.8681e-04 - accuracy: 1.00 - ETA: 9s - loss: 1.8666e-04 - accuracy: 1.00 - ETA: 9s - loss: 1.8625e-04 - accuracy: 1.00 - ETA: 9s - loss: 1.8613e-04 - accuracy: 1.00 - ETA: 9s - loss: 1.8558e-04 - accuracy: 1.00 - ETA: 9s - loss: 1.8531e-04 - accuracy: 1.00 - ETA: 9s - loss: 1.8502e-04 - accuracy: 1.00 - ETA: 9s - loss: 1.8510e-04 - accuracy: 1.00 - ETA: 8s - loss: 1.8513e-04 - accuracy: 1.00 - ETA: 8s - loss: 1.8485e-04 - accuracy: 1.00 - ETA: 8s - loss: 1.8391e-04 - accuracy: 1.00 - ETA: 8s - loss: 1.8386e-04 - accuracy: 1.00 - ETA: 8s - loss: 1.8364e-04 - accuracy: 1.00 - ETA: 8s - loss: 1.8352e-04 - accuracy: 1.00 - ETA: 8s - loss: 1.8303e-04 - accuracy: 1.00 - ETA: 8s - loss: 1.8321e-04 - accuracy: 1.00 - ETA: 8s - loss: 1.8280e-04 - accuracy: 1.00 - ETA: 8s - loss: 1.8283e-04 - accuracy: 1.00 - ETA: 8s - loss: 1.8300e-04 - accuracy: 1.00 - ETA: 8s - loss: 1.8258e-04 - accuracy: 1.00 - ETA: 8s - loss: 1.8257e-04 - accuracy: 1.00 - ETA: 8s - loss: 1.8266e-04 - accuracy: 1.00 - ETA: 8s - loss: 1.8277e-04 - accuracy: 1.00 - ETA: 7s - loss: 1.8262e-04 - accuracy: 1.00 - ETA: 7s - loss: 1.8239e-04 - accuracy: 1.00 - ETA: 7s - loss: 1.8263e-04 - accuracy: 1.00 - ETA: 7s - loss: 1.8232e-04 - accuracy: 1.00 - ETA: 7s - loss: 1.8223e-04 - accuracy: 1.00 - ETA: 7s - loss: 1.8227e-04 - accuracy: 1.00 - ETA: 7s - loss: 1.8196e-04 - accuracy: 1.00 - ETA: 7s - loss: 1.8181e-04 - accuracy: 1.00 - ETA: 7s - loss: 1.8149e-04 - accuracy: 1.00 - ETA: 7s - loss: 1.8132e-04 - accuracy: 1.00 - ETA: 7s - loss: 1.8125e-04 - accuracy: 1.00 - ETA: 7s - loss: 1.8109e-04 - accuracy: 1.00 - ETA: 7s - loss: 1.8100e-04 - accuracy: 1.00 - ETA: 7s - loss: 1.8105e-04 - accuracy: 1.00 - ETA: 7s - loss: 1.8124e-04 - accuracy: 1.00 - ETA: 7s - loss: 1.8179e-04 - accuracy: 1.00 - ETA: 7s - loss: 1.8152e-04 - accuracy: 1.00 - ETA: 7s - loss: 1.8194e-04 - accuracy: 1.00 - ETA: 7s - loss: 1.8167e-04 - accuracy: 1.00 - ETA: 6s - loss: 1.8166e-04 - accuracy: 1.00 - ETA: 6s - loss: 1.8200e-04 - accuracy: 1.00 - ETA: 6s - loss: 1.8208e-04 - accuracy: 1.00 - ETA: 6s - loss: 1.8175e-04 - accuracy: 1.00 - ETA: 6s - loss: 1.8147e-04 - accuracy: 1.00 - ETA: 6s - loss: 1.8143e-04 - accuracy: 1.00 - ETA: 6s - loss: 1.8126e-04 - accuracy: 1.00 - ETA: 6s - loss: 1.8103e-04 - accuracy: 1.00 - ETA: 6s - loss: 1.8102e-04 - accuracy: 1.00 - ETA: 6s - loss: 1.8104e-04 - accuracy: 1.00 - ETA: 6s - loss: 1.8063e-04 - accuracy: 1.00 - ETA: 6s - loss: 1.8067e-04 - accuracy: 1.00 - ETA: 6s - loss: 1.8072e-04 - accuracy: 1.00 - ETA: 6s - loss: 1.8066e-04 - accuracy: 1.00 - ETA: 6s - loss: 1.8066e-04 - accuracy: 1.00 - ETA: 6s - loss: 1.8036e-04 - accuracy: 1.00 - ETA: 6s - loss: 1.8001e-04 - accuracy: 1.00 - ETA: 6s - loss: 1.7984e-04 - accuracy: 1.00 - ETA: 6s - loss: 1.7953e-04 - accuracy: 1.00 - ETA: 5s - loss: 1.7958e-04 - accuracy: 1.00 - ETA: 5s - loss: 1.7910e-04 - accuracy: 1.00 - ETA: 5s - loss: 1.7897e-04 - accuracy: 1.00 - ETA: 5s - loss: 1.7911e-04 - accuracy: 1.00 - ETA: 5s - loss: 1.7886e-04 - accuracy: 1.00 - ETA: 5s - loss: 1.7910e-04 - accuracy: 1.00 - ETA: 5s - loss: 1.7895e-04 - accuracy: 1.00 - ETA: 5s - loss: 1.7887e-04 - accuracy: 1.00 - ETA: 5s - loss: 1.7844e-04 - accuracy: 1.00 - ETA: 5s - loss: 1.7867e-04 - accuracy: 1.00 - ETA: 5s - loss: 1.7821e-04 - accuracy: 1.00 - ETA: 5s - loss: 1.7808e-04 - accuracy: 1.00 - ETA: 5s - loss: 1.7816e-04 - accuracy: 1.00 - ETA: 5s - loss: 1.7787e-04 - accuracy: 1.00 - ETA: 5s - loss: 1.7771e-04 - accuracy: 1.00 - ETA: 5s - loss: 1.7756e-04 - accuracy: 1.00 - ETA: 5s - loss: 1.7775e-04 - accuracy: 1.00 - ETA: 5s - loss: 1.7799e-04 - accuracy: 1.00 - ETA: 5s - loss: 1.7764e-04 - accuracy: 1.00 - ETA: 5s - loss: 1.7715e-04 - accuracy: 1.00 - ETA: 5s - loss: 1.7702e-04 - accuracy: 1.00 - ETA: 4s - loss: 1.7694e-04 - accuracy: 1.00 - ETA: 4s - loss: 1.7662e-04 - accuracy: 1.00 - ETA: 4s - loss: 1.7633e-04 - accuracy: 1.00 - ETA: 4s - loss: 1.7592e-04 - accuracy: 1.00 - ETA: 4s - loss: 1.7575e-04 - accuracy: 1.00 - ETA: 4s - loss: 1.7540e-04 - accuracy: 1.00 - ETA: 4s - loss: 1.7507e-04 - accuracy: 1.00 - ETA: 4s - loss: 1.7467e-04 - accuracy: 1.00 - ETA: 4s - loss: 1.7436e-04 - accuracy: 1.00 - ETA: 4s - loss: 1.7433e-04 - accuracy: 1.00 - ETA: 4s - loss: 1.7424e-04 - accuracy: 1.00 - ETA: 4s - loss: 1.7399e-04 - accuracy: 1.00 - ETA: 4s - loss: 1.7368e-04 - accuracy: 1.00 - ETA: 4s - loss: 1.7351e-04 - accuracy: 1.00 - ETA: 4s - loss: 1.7348e-04 - accuracy: 1.00 - ETA: 3s - loss: 1.7325e-04 - accuracy: 1.00 - ETA: 3s - loss: 1.7300e-04 - accuracy: 1.00 - ETA: 3s - loss: 1.7298e-04 - accuracy: 1.00 - ETA: 3s - loss: 1.7301e-04 - accuracy: 1.00 - ETA: 3s - loss: 1.7295e-04 - accuracy: 1.00 - ETA: 3s - loss: 1.7254e-04 - accuracy: 1.00 - ETA: 3s - loss: 1.7291e-04 - accuracy: 1.00 - ETA: 3s - loss: 1.7269e-04 - accuracy: 1.00 - ETA: 3s - loss: 1.7255e-04 - accuracy: 1.0000"
     ]
    },
    {
     "name": "stdout",
     "output_type": "stream",
     "text": [
      "25000/25000 [==============================] - ETA: 3s - loss: 1.7235e-04 - accuracy: 1.00 - ETA: 3s - loss: 1.7199e-04 - accuracy: 1.00 - ETA: 3s - loss: 1.7189e-04 - accuracy: 1.00 - ETA: 3s - loss: 1.7185e-04 - accuracy: 1.00 - ETA: 3s - loss: 1.7202e-04 - accuracy: 1.00 - ETA: 3s - loss: 1.7204e-04 - accuracy: 1.00 - ETA: 3s - loss: 1.7193e-04 - accuracy: 1.00 - ETA: 2s - loss: 1.7177e-04 - accuracy: 1.00 - ETA: 2s - loss: 1.7160e-04 - accuracy: 1.00 - ETA: 2s - loss: 1.7129e-04 - accuracy: 1.00 - ETA: 2s - loss: 1.7113e-04 - accuracy: 1.00 - ETA: 2s - loss: 1.7145e-04 - accuracy: 1.00 - ETA: 2s - loss: 1.7124e-04 - accuracy: 1.00 - ETA: 2s - loss: 1.7098e-04 - accuracy: 1.00 - ETA: 2s - loss: 1.7095e-04 - accuracy: 1.00 - ETA: 2s - loss: 1.7092e-04 - accuracy: 1.00 - ETA: 2s - loss: 1.7074e-04 - accuracy: 1.00 - ETA: 2s - loss: 1.7064e-04 - accuracy: 1.00 - ETA: 2s - loss: 1.7052e-04 - accuracy: 1.00 - ETA: 2s - loss: 1.7026e-04 - accuracy: 1.00 - ETA: 2s - loss: 1.7013e-04 - accuracy: 1.00 - ETA: 2s - loss: 1.6989e-04 - accuracy: 1.00 - ETA: 2s - loss: 1.6970e-04 - accuracy: 1.00 - ETA: 2s - loss: 1.6956e-04 - accuracy: 1.00 - ETA: 1s - loss: 1.6931e-04 - accuracy: 1.00 - ETA: 1s - loss: 1.6910e-04 - accuracy: 1.00 - ETA: 1s - loss: 1.6919e-04 - accuracy: 1.00 - ETA: 1s - loss: 1.6897e-04 - accuracy: 1.00 - ETA: 1s - loss: 1.6879e-04 - accuracy: 1.00 - ETA: 1s - loss: 1.6863e-04 - accuracy: 1.00 - ETA: 1s - loss: 1.6882e-04 - accuracy: 1.00 - ETA: 1s - loss: 1.6864e-04 - accuracy: 1.00 - ETA: 1s - loss: 1.6850e-04 - accuracy: 1.00 - ETA: 1s - loss: 1.6852e-04 - accuracy: 1.00 - ETA: 1s - loss: 1.6835e-04 - accuracy: 1.00 - ETA: 1s - loss: 1.6830e-04 - accuracy: 1.00 - ETA: 1s - loss: 1.6824e-04 - accuracy: 1.00 - ETA: 1s - loss: 1.6805e-04 - accuracy: 1.00 - ETA: 1s - loss: 1.6789e-04 - accuracy: 1.00 - ETA: 1s - loss: 1.6782e-04 - accuracy: 1.00 - ETA: 1s - loss: 1.6767e-04 - accuracy: 1.00 - ETA: 1s - loss: 1.6741e-04 - accuracy: 1.00 - ETA: 1s - loss: 1.6768e-04 - accuracy: 1.00 - ETA: 1s - loss: 1.6756e-04 - accuracy: 1.00 - ETA: 0s - loss: 1.6751e-04 - accuracy: 1.00 - ETA: 0s - loss: 1.6750e-04 - accuracy: 1.00 - ETA: 0s - loss: 1.6723e-04 - accuracy: 1.00 - ETA: 0s - loss: 1.6722e-04 - accuracy: 1.00 - ETA: 0s - loss: 1.6710e-04 - accuracy: 1.00 - ETA: 0s - loss: 1.6734e-04 - accuracy: 1.00 - ETA: 0s - loss: 1.6727e-04 - accuracy: 1.00 - ETA: 0s - loss: 1.6709e-04 - accuracy: 1.00 - ETA: 0s - loss: 1.6715e-04 - accuracy: 1.00 - ETA: 0s - loss: 1.6701e-04 - accuracy: 1.00 - ETA: 0s - loss: 1.6676e-04 - accuracy: 1.00 - ETA: 0s - loss: 1.6652e-04 - accuracy: 1.00 - ETA: 0s - loss: 1.6639e-04 - accuracy: 1.00 - ETA: 0s - loss: 1.6616e-04 - accuracy: 1.00 - ETA: 0s - loss: 1.6606e-04 - accuracy: 1.00 - ETA: 0s - loss: 1.6584e-04 - accuracy: 1.00 - ETA: 0s - loss: 1.6574e-04 - accuracy: 1.00 - ETA: 0s - loss: 1.6551e-04 - accuracy: 1.00 - ETA: 0s - loss: 1.6531e-04 - accuracy: 1.00 - ETA: 0s - loss: 1.6516e-04 - accuracy: 1.00 - 19s 765us/sample - loss: 1.6507e-04 - accuracy: 1.0000 - val_loss: 0.8061 - val_accuracy: 0.8296\n"
     ]
    },
    {
     "data": {
      "text/plain": [
       "<tensorflow.python.keras.callbacks.History at 0x2a301e0db48>"
      ]
     },
     "execution_count": 18,
     "metadata": {},
     "output_type": "execute_result"
    }
   ],
   "source": [
    "num_epochs = 10\n",
    "model.fit(padded, training_labels_final, epochs=num_epochs, validation_data=(testing_padded, testing_labels_final))"
   ]
  },
  {
   "cell_type": "code",
   "execution_count": 19,
   "metadata": {},
   "outputs": [
    {
     "name": "stdout",
     "output_type": "stream",
     "text": [
      "(10000, 16)\n"
     ]
    }
   ],
   "source": [
    "e = model.layers[0]\n",
    "weights = e.get_weights()[0]\n",
    "print(weights.shape) # shape: (vocab_size, embedding_dim)"
   ]
  },
  {
   "cell_type": "code",
   "execution_count": 20,
   "metadata": {},
   "outputs": [],
   "source": [
    "import io\n",
    "\n",
    "out_v = io.open('vecs.tsv', 'w', encoding='utf-8')\n",
    "out_m = io.open('meta.tsv', 'w', encoding='utf-8')\n",
    "for word_num in range(1, vocab_size):\n",
    "  word = reverse_word_index[word_num]\n",
    "  embeddings = weights[word_num]\n",
    "  out_m.write(word + \"\\n\")\n",
    "  out_v.write('\\t'.join([str(x) for x in embeddings]) + \"\\n\")\n",
    "out_v.close()\n",
    "out_m.close()"
   ]
  },
  {
   "cell_type": "code",
   "execution_count": 21,
   "metadata": {},
   "outputs": [],
   "source": [
    "try:\n",
    "  from google.colab import files\n",
    "except ImportError:\n",
    "  pass\n",
    "else:\n",
    "  files.download('vecs.tsv')\n",
    "  files.download('meta.tsv')"
   ]
  },
  {
   "cell_type": "code",
   "execution_count": 22,
   "metadata": {},
   "outputs": [
    {
     "name": "stdout",
     "output_type": "stream",
     "text": [
      "[[11], [], [1429], [969], [4], [1537], [1537], [4749], [], [790], [2012], [11], [2920], [2188], [], [790], [2012], [11], [579], [], [11], [579], [], [4], [1783], [4], [4512], [11], [2920], [1277], [], [], [2012], [1003], [2920], [969], [579], [790], []]\n"
     ]
    }
   ],
   "source": [
    "sentence = \"I really think this is amazing. honest.\"\n",
    "sequence = tokenizer.texts_to_sequences(sentence)\n",
    "print(sequence)"
   ]
  }
 ],
 "metadata": {
  "kernelspec": {
   "display_name": "Python 3",
   "language": "python",
   "name": "python3"
  },
  "language_info": {
   "codemirror_mode": {
    "name": "ipython",
    "version": 3
   },
   "file_extension": ".py",
   "mimetype": "text/x-python",
   "name": "python",
   "nbconvert_exporter": "python",
   "pygments_lexer": "ipython3",
   "version": "3.7.4"
  }
 },
 "nbformat": 4,
 "nbformat_minor": 2
}
